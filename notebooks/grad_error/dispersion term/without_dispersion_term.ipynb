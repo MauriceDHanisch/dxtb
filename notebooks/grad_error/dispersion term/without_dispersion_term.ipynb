{
 "cells": [
  {
   "cell_type": "markdown",
   "id": "28b4dda4",
   "metadata": {},
   "source": [
    "# You can run the cell below multiple times and see that randomly 1 out of 2 errors appear"
   ]
  },
  {
   "cell_type": "code",
   "execution_count": 5,
   "id": "d3d30034",
   "metadata": {},
   "outputs": [
    {
     "name": "stdout",
     "output_type": "stream",
     "text": [
      "Torch version: 2.5.1\n",
      "CUDA version: 12.4\n",
      "CUDNN version: 90100\n"
     ]
    },
    {
     "name": "stderr",
     "output_type": "stream",
     "text": [
      " 69%|██████▉   | 69/100 [00:21<00:09,  3.17it/s]\n"
     ]
    },
    {
     "ename": "KeyboardInterrupt",
     "evalue": "",
     "output_type": "error",
     "traceback": [
      "\u001b[31m---------------------------------------------------------------------------\u001b[39m",
      "\u001b[31mKeyboardInterrupt\u001b[39m                         Traceback (most recent call last)",
      "\u001b[36mCell\u001b[39m\u001b[36m \u001b[39m\u001b[32mIn[5]\u001b[39m\u001b[32m, line 59\u001b[39m\n\u001b[32m     56\u001b[39m calc = dxtb.Calculator(numbers, dxtb.GFN1_XTB, **dd, opts=opts)\n\u001b[32m     58\u001b[39m \u001b[38;5;28;01mfor\u001b[39;00m i \u001b[38;5;129;01min\u001b[39;00m tqdm(\u001b[38;5;28mrange\u001b[39m(\u001b[32m100\u001b[39m)):\n\u001b[32m---> \u001b[39m\u001b[32m59\u001b[39m     e = \u001b[43mcalc\u001b[49m\u001b[43m.\u001b[49m\u001b[43mget_energy\u001b[49m\u001b[43m(\u001b[49m\u001b[43mpositions\u001b[49m\u001b[43m,\u001b[49m\u001b[43m \u001b[49m\u001b[43mchrg\u001b[49m\u001b[43m=\u001b[49m\u001b[43mcharges\u001b[49m\u001b[43m)\u001b[49m\n\u001b[32m     60\u001b[39m     forces = torch.autograd.grad(e.sum(), positions, retain_graph=\u001b[38;5;28;01mTrue\u001b[39;00m)[\u001b[32m0\u001b[39m]\n\u001b[32m     62\u001b[39m     \u001b[38;5;66;03m# MF: Also fails, when commented out\u001b[39;00m\n\u001b[32m     63\u001b[39m     \u001b[38;5;66;03m# Features calc\u001b[39;00m\n",
      "\u001b[36mFile \u001b[39m\u001b[32m~/OrbSpin-EtE/models/dxtb/src/dxtb/_src/calculators/types/abc.py:94\u001b[39m, in \u001b[36mGetPropertiesMixin.get_energy\u001b[39m\u001b[34m(self, positions, chrg, spin, **kwargs)\u001b[39m\n\u001b[32m     87\u001b[39m \u001b[38;5;28;01mdef\u001b[39;00m\u001b[38;5;250m \u001b[39m\u001b[34mget_energy\u001b[39m(\n\u001b[32m     88\u001b[39m     \u001b[38;5;28mself\u001b[39m,\n\u001b[32m     89\u001b[39m     positions: Tensor,\n\u001b[32m   (...)\u001b[39m\u001b[32m     92\u001b[39m     **kwargs: Any,\n\u001b[32m     93\u001b[39m ) -> Tensor:\n\u001b[32m---> \u001b[39m\u001b[32m94\u001b[39m     prop = \u001b[38;5;28;43mself\u001b[39;49m\u001b[43m.\u001b[49m\u001b[43mget_property\u001b[49m\u001b[43m(\u001b[49m\n\u001b[32m     95\u001b[39m \u001b[43m        \u001b[49m\u001b[33;43m\"\u001b[39;49m\u001b[33;43menergy\u001b[39;49m\u001b[33;43m\"\u001b[39;49m\u001b[43m,\u001b[49m\u001b[43m \u001b[49m\u001b[43mpositions\u001b[49m\u001b[43m,\u001b[49m\u001b[43m \u001b[49m\u001b[43mchrg\u001b[49m\u001b[43m=\u001b[49m\u001b[43mchrg\u001b[49m\u001b[43m,\u001b[49m\u001b[43m \u001b[49m\u001b[43mspin\u001b[49m\u001b[43m=\u001b[49m\u001b[43mspin\u001b[49m\u001b[43m,\u001b[49m\u001b[43m \u001b[49m\u001b[43m*\u001b[49m\u001b[43m*\u001b[49m\u001b[43mkwargs\u001b[49m\n\u001b[32m     96\u001b[39m \u001b[43m    \u001b[49m\u001b[43m)\u001b[49m\n\u001b[32m     97\u001b[39m     \u001b[38;5;28;01massert\u001b[39;00m \u001b[38;5;28misinstance\u001b[39m(prop, Tensor)\n\u001b[32m     98\u001b[39m     \u001b[38;5;28;01mreturn\u001b[39;00m prop\n",
      "\u001b[36mFile \u001b[39m\u001b[32m~/OrbSpin-EtE/models/dxtb/src/dxtb/_src/calculators/types/base.py:840\u001b[39m, in \u001b[36mBaseCalculator.get_property\u001b[39m\u001b[34m(self, name, positions, chrg, spin, allow_calculation, return_clone, **kwargs)\u001b[39m\n\u001b[32m    833\u001b[39m         \u001b[38;5;28;01mraise\u001b[39;00m DeviceError(\n\u001b[32m    834\u001b[39m             \u001b[33mf\u001b[39m\u001b[33m\"\u001b[39m\u001b[33mDevice mismatch: Calculator is on \u001b[39m\u001b[33m'\u001b[39m\u001b[38;5;132;01m{\u001b[39;00m\u001b[38;5;28mself\u001b[39m.device\u001b[38;5;132;01m}\u001b[39;00m\u001b[33m'\u001b[39m\u001b[33m, but \u001b[39m\u001b[33m\"\u001b[39m\n\u001b[32m    835\u001b[39m             \u001b[33mf\u001b[39m\u001b[33m\"\u001b[39m\u001b[33mspin is on \u001b[39m\u001b[33m'\u001b[39m\u001b[38;5;132;01m{\u001b[39;00mspin.device\u001b[38;5;132;01m}\u001b[39;00m\u001b[33m'\u001b[39m\u001b[33m.\u001b[39m\u001b[33m\"\u001b[39m\n\u001b[32m    836\u001b[39m         )\n\u001b[32m    838\u001b[39m \u001b[38;5;66;03m# All the cache checks are handled deep within `calculate`. No need to\u001b[39;00m\n\u001b[32m    839\u001b[39m \u001b[38;5;66;03m# do it here as well.\u001b[39;00m\n\u001b[32m--> \u001b[39m\u001b[32m840\u001b[39m \u001b[38;5;28;43mself\u001b[39;49m\u001b[43m.\u001b[49m\u001b[43mcalculate\u001b[49m\u001b[43m(\u001b[49m\u001b[43m[\u001b[49m\u001b[43mname\u001b[49m\u001b[43m]\u001b[49m\u001b[43m,\u001b[49m\u001b[43m \u001b[49m\u001b[43mpositions\u001b[49m\u001b[43m,\u001b[49m\u001b[43m \u001b[49m\u001b[43mchrg\u001b[49m\u001b[43m=\u001b[49m\u001b[43mchrg\u001b[49m\u001b[43m,\u001b[49m\u001b[43m \u001b[49m\u001b[43mspin\u001b[49m\u001b[43m=\u001b[49m\u001b[43mspin\u001b[49m\u001b[43m,\u001b[49m\u001b[43m \u001b[49m\u001b[43m*\u001b[49m\u001b[43m*\u001b[49m\u001b[43mkwargs\u001b[49m\u001b[43m)\u001b[49m\n\u001b[32m    842\u001b[39m \u001b[38;5;66;03m# For some reason the calculator was not able to do what we want...\u001b[39;00m\n\u001b[32m    843\u001b[39m \u001b[38;5;28;01mif\u001b[39;00m name \u001b[38;5;129;01mnot\u001b[39;00m \u001b[38;5;129;01min\u001b[39;00m \u001b[38;5;28mself\u001b[39m.cache:\n",
      "\u001b[36mFile \u001b[39m\u001b[32m~/OrbSpin-EtE/models/dxtb/src/dxtb/_src/calculators/base.py:61\u001b[39m, in \u001b[36mCalculator.calculate\u001b[39m\u001b[34m(self, properties, positions, chrg, spin, **kwargs)\u001b[39m\n\u001b[32m     53\u001b[39m \u001b[38;5;28;01mdef\u001b[39;00m\u001b[38;5;250m \u001b[39m\u001b[34mcalculate\u001b[39m(\n\u001b[32m     54\u001b[39m     \u001b[38;5;28mself\u001b[39m,\n\u001b[32m     55\u001b[39m     properties: \u001b[38;5;28mlist\u001b[39m[\u001b[38;5;28mstr\u001b[39m],\n\u001b[32m   (...)\u001b[39m\u001b[32m     59\u001b[39m     **kwargs: Any,\n\u001b[32m     60\u001b[39m ):\n\u001b[32m---> \u001b[39m\u001b[32m61\u001b[39m     \u001b[43mAutogradCalculator\u001b[49m\u001b[43m.\u001b[49m\u001b[43mcalculate\u001b[49m\u001b[43m(\u001b[49m\n\u001b[32m     62\u001b[39m \u001b[43m        \u001b[49m\u001b[38;5;28;43mself\u001b[39;49m\u001b[43m,\u001b[49m\u001b[43m \u001b[49m\u001b[43mproperties\u001b[49m\u001b[43m,\u001b[49m\u001b[43m \u001b[49m\u001b[43mpositions\u001b[49m\u001b[43m,\u001b[49m\u001b[43m \u001b[49m\u001b[43mchrg\u001b[49m\u001b[43m,\u001b[49m\u001b[43m \u001b[49m\u001b[43mspin\u001b[49m\u001b[43m,\u001b[49m\u001b[43m \u001b[49m\u001b[43m*\u001b[49m\u001b[43m*\u001b[49m\u001b[43mkwargs\u001b[49m\n\u001b[32m     63\u001b[39m \u001b[43m    \u001b[49m\u001b[43m)\u001b[49m\n",
      "\u001b[36mFile \u001b[39m\u001b[32m~/OrbSpin-EtE/models/dxtb/src/dxtb/_src/calculators/types/autograd.py:1042\u001b[39m, in \u001b[36mAutogradCalculator.calculate\u001b[39m\u001b[34m(self, properties, positions, chrg, spin, **kwargs)\u001b[39m\n\u001b[32m   1039\u001b[39m props.remove(\u001b[33m\"\u001b[39m\u001b[33mbond_orders\u001b[39m\u001b[33m\"\u001b[39m)\n\u001b[32m   1041\u001b[39m \u001b[38;5;28;01mif\u001b[39;00m \u001b[38;5;28mset\u001b[39m(props) & \u001b[38;5;28mset\u001b[39m(properties):\n\u001b[32m-> \u001b[39m\u001b[32m1042\u001b[39m     \u001b[38;5;28;43mself\u001b[39;49m\u001b[43m.\u001b[49m\u001b[43menergy\u001b[49m\u001b[43m(\u001b[49m\u001b[43mpositions\u001b[49m\u001b[43m,\u001b[49m\u001b[43m \u001b[49m\u001b[43mchrg\u001b[49m\u001b[43m,\u001b[49m\u001b[43m \u001b[49m\u001b[43mspin\u001b[49m\u001b[43m,\u001b[49m\u001b[43m \u001b[49m\u001b[43m*\u001b[49m\u001b[43m*\u001b[49m\u001b[43mkwargs\u001b[49m\u001b[43m)\u001b[49m\n\u001b[32m   1044\u001b[39m \u001b[38;5;28;01mif\u001b[39;00m \u001b[33m\"\u001b[39m\u001b[33mforces\u001b[39m\u001b[33m\"\u001b[39m \u001b[38;5;129;01min\u001b[39;00m properties:\n\u001b[32m   1045\u001b[39m     \u001b[38;5;28mself\u001b[39m.forces(positions, chrg, spin, **kwargs)\n",
      "\u001b[36mFile \u001b[39m\u001b[32m~/OrbSpin-EtE/models/dxtb/src/dxtb/_src/calculators/types/decorators.py:268\u001b[39m, in \u001b[36mcache.<locals>.wrapper\u001b[39m\u001b[34m(self, *args, **kwargs)\u001b[39m\n\u001b[32m    265\u001b[39m                 \u001b[38;5;28;01mreturn\u001b[39;00m \u001b[38;5;28mself\u001b[39m.cache[key]\n\u001b[32m    267\u001b[39m \u001b[38;5;66;03m# Execute the function and store the result in the cache\u001b[39;00m\n\u001b[32m--> \u001b[39m\u001b[32m268\u001b[39m result = \u001b[43mfunc\u001b[49m\u001b[43m(\u001b[49m\u001b[38;5;28;43mself\u001b[39;49m\u001b[43m,\u001b[49m\u001b[43m \u001b[49m\u001b[43m*\u001b[49m\u001b[43margs\u001b[49m\u001b[43m,\u001b[49m\u001b[43m \u001b[49m\u001b[43m*\u001b[49m\u001b[43m*\u001b[49m\u001b[43mkwargs\u001b[49m\u001b[43m)\u001b[49m\n\u001b[32m    269\u001b[39m \u001b[38;5;28mself\u001b[39m.cache[key] = result\n\u001b[32m    271\u001b[39m \u001b[38;5;66;03m# Also store the \"hashkey\"\u001b[39;00m\n",
      "\u001b[36mFile \u001b[39m\u001b[32m~/OrbSpin-EtE/models/dxtb/src/dxtb/_src/calculators/types/energy.py:411\u001b[39m, in \u001b[36mEnergyCalculator.energy\u001b[39m\u001b[34m(self, positions, chrg, spin, **kwargs)\u001b[39m\n\u001b[32m    386\u001b[39m \u001b[38;5;129m@cdec\u001b[39m.cache\n\u001b[32m    387\u001b[39m \u001b[38;5;28;01mdef\u001b[39;00m\u001b[38;5;250m \u001b[39m\u001b[34menergy\u001b[39m(\n\u001b[32m    388\u001b[39m     \u001b[38;5;28mself\u001b[39m,\n\u001b[32m   (...)\u001b[39m\u001b[32m    392\u001b[39m     **kwargs: Any,\n\u001b[32m    393\u001b[39m ) -> Tensor:\n\u001b[32m    394\u001b[39m \u001b[38;5;250m    \u001b[39m\u001b[33;03m\"\"\"\u001b[39;00m\n\u001b[32m    395\u001b[39m \u001b[33;03m    Calculate the total energy :math:`E` of the system.\u001b[39;00m\n\u001b[32m    396\u001b[39m \n\u001b[32m   (...)\u001b[39m\u001b[32m    409\u001b[39m \u001b[33;03m        Total energy of the system (scalar value).\u001b[39;00m\n\u001b[32m    410\u001b[39m \u001b[33;03m    \"\"\"\u001b[39;00m\n\u001b[32m--> \u001b[39m\u001b[32m411\u001b[39m     \u001b[38;5;28;43mself\u001b[39;49m\u001b[43m.\u001b[49m\u001b[43msinglepoint\u001b[49m\u001b[43m(\u001b[49m\u001b[43mpositions\u001b[49m\u001b[43m,\u001b[49m\u001b[43m \u001b[49m\u001b[43mchrg\u001b[49m\u001b[43m,\u001b[49m\u001b[43m \u001b[49m\u001b[43mspin\u001b[49m\u001b[43m,\u001b[49m\u001b[43m \u001b[49m\u001b[43m*\u001b[49m\u001b[43m*\u001b[49m\u001b[43mkwargs\u001b[49m\u001b[43m)\u001b[49m\n\u001b[32m    412\u001b[39m     e = \u001b[38;5;28mself\u001b[39m.cache[\u001b[33m\"\u001b[39m\u001b[33menergy\u001b[39m\u001b[33m\"\u001b[39m]\n\u001b[32m    414\u001b[39m     \u001b[38;5;28;01mif\u001b[39;00m e \u001b[38;5;129;01mis\u001b[39;00m \u001b[38;5;28;01mNone\u001b[39;00m:\n",
      "\u001b[36mFile \u001b[39m\u001b[32m~/OrbSpin-EtE/models/dxtb/src/dxtb/_src/calculators/types/energy.py:144\u001b[39m, in \u001b[36mEnergyCalculator.singlepoint\u001b[39m\u001b[34m(self, positions, chrg, spin, **kwargs)\u001b[39m\n\u001b[32m    141\u001b[39m timer.start(\u001b[33m\"\u001b[39m\u001b[33mClassicals\u001b[39m\u001b[33m\"\u001b[39m)\n\u001b[32m    143\u001b[39m ccaches = \u001b[38;5;28mself\u001b[39m.classicals.get_cache(\u001b[38;5;28mself\u001b[39m.numbers, \u001b[38;5;28mself\u001b[39m.ihelp)\n\u001b[32m--> \u001b[39m\u001b[32m144\u001b[39m cenergies = \u001b[38;5;28;43mself\u001b[39;49m\u001b[43m.\u001b[49m\u001b[43mclassicals\u001b[49m\u001b[43m.\u001b[49m\u001b[43mget_energy\u001b[49m\u001b[43m(\u001b[49m\u001b[43mpositions\u001b[49m\u001b[43m,\u001b[49m\u001b[43m \u001b[49m\u001b[43mccaches\u001b[49m\u001b[43m)\u001b[49m\n\u001b[32m    145\u001b[39m result.cenergies = cenergies\n\u001b[32m    146\u001b[39m result.total += torch.stack(\u001b[38;5;28mlist\u001b[39m(cenergies.values())).sum(\u001b[32m0\u001b[39m)\n",
      "\u001b[36mFile \u001b[39m\u001b[32m~/OrbSpin-EtE/models/dxtb/src/dxtb/_src/components/classicals/list.py:118\u001b[39m, in \u001b[36mClassicalList.get_energy\u001b[39m\u001b[34m(self, positions, cache)\u001b[39m\n\u001b[32m    116\u001b[39m \u001b[38;5;28;01mfor\u001b[39;00m classical \u001b[38;5;129;01min\u001b[39;00m \u001b[38;5;28mself\u001b[39m.components:\n\u001b[32m    117\u001b[39m     timer.start(classical.label, parent_uid=\u001b[33m\"\u001b[39m\u001b[33mClassicals\u001b[39m\u001b[33m\"\u001b[39m)\n\u001b[32m--> \u001b[39m\u001b[32m118\u001b[39m     energies[classical.label] = \u001b[43mclassical\u001b[49m\u001b[43m.\u001b[49m\u001b[43mget_energy\u001b[49m\u001b[43m(\u001b[49m\n\u001b[32m    119\u001b[39m \u001b[43m        \u001b[49m\u001b[43mpositions\u001b[49m\u001b[43m,\u001b[49m\u001b[43m \u001b[49m\u001b[43mcache\u001b[49m\u001b[43m[\u001b[49m\u001b[43mclassical\u001b[49m\u001b[43m.\u001b[49m\u001b[43mlabel\u001b[49m\u001b[43m]\u001b[49m\n\u001b[32m    120\u001b[39m \u001b[43m    \u001b[49m\u001b[43m)\u001b[49m\n\u001b[32m    121\u001b[39m     timer.stop(classical.label)\n\u001b[32m    123\u001b[39m \u001b[38;5;28;01mreturn\u001b[39;00m energies\n",
      "\u001b[36mFile \u001b[39m\u001b[32m~/OrbSpin-EtE/models/dxtb/src/dxtb/_src/components/classicals/halogen/hal.py:187\u001b[39m, in \u001b[36mHalogen.get_energy\u001b[39m\u001b[34m(self, positions, cache)\u001b[39m\n\u001b[32m    169\u001b[39m \u001b[38;5;250m\u001b[39m\u001b[33;03m\"\"\"\u001b[39;00m\n\u001b[32m    170\u001b[39m \u001b[33;03mHandle batchwise and single calculation of halogen bonding energy.\u001b[39;00m\n\u001b[32m    171\u001b[39m \n\u001b[32m   (...)\u001b[39m\u001b[32m    182\u001b[39m \u001b[33;03m     Atomwise energy contributions from halogen bonds.\u001b[39;00m\n\u001b[32m    183\u001b[39m \u001b[33;03m\"\"\"\u001b[39;00m\n\u001b[32m    185\u001b[39m \u001b[38;5;28;01mif\u001b[39;00m cache.numbers.ndim > \u001b[32m1\u001b[39m:\n\u001b[32m    186\u001b[39m     \u001b[38;5;28;01mreturn\u001b[39;00m pack(\n\u001b[32m--> \u001b[39m\u001b[32m187\u001b[39m         \u001b[43m[\u001b[49m\n\u001b[32m    188\u001b[39m \u001b[43m            \u001b[49m\u001b[38;5;28;43mself\u001b[39;49m\u001b[43m.\u001b[49m\u001b[43m_xbond_energy\u001b[49m\u001b[43m(\u001b[49m\n\u001b[32m    189\u001b[39m \u001b[43m                \u001b[49m\u001b[43mcache\u001b[49m\u001b[43m.\u001b[49m\u001b[43mnumbers\u001b[49m\u001b[43m[\u001b[49m\u001b[43m_batch\u001b[49m\u001b[43m]\u001b[49m\u001b[43m,\u001b[49m\n\u001b[32m    190\u001b[39m \u001b[43m                \u001b[49m\u001b[43mpositions\u001b[49m\u001b[43m[\u001b[49m\u001b[43m_batch\u001b[49m\u001b[43m]\u001b[49m\u001b[43m,\u001b[49m\n\u001b[32m    191\u001b[39m \u001b[43m                \u001b[49m\u001b[43mcache\u001b[49m\u001b[43m.\u001b[49m\u001b[43mxbond\u001b[49m\u001b[43m[\u001b[49m\u001b[43m_batch\u001b[49m\u001b[43m]\u001b[49m\u001b[43m,\u001b[49m\n\u001b[32m    192\u001b[39m \u001b[43m            \u001b[49m\u001b[43m)\u001b[49m\n\u001b[32m    193\u001b[39m \u001b[43m            \u001b[49m\u001b[38;5;28;43;01mfor\u001b[39;49;00m\u001b[43m \u001b[49m\u001b[43m_batch\u001b[49m\u001b[43m \u001b[49m\u001b[38;5;129;43;01min\u001b[39;49;00m\u001b[43m \u001b[49m\u001b[38;5;28;43mrange\u001b[39;49m\u001b[43m(\u001b[49m\u001b[43mcache\u001b[49m\u001b[43m.\u001b[49m\u001b[43mnumbers\u001b[49m\u001b[43m.\u001b[49m\u001b[43mshape\u001b[49m\u001b[43m[\u001b[49m\u001b[32;43m0\u001b[39;49m\u001b[43m]\u001b[49m\u001b[43m)\u001b[49m\n\u001b[32m    194\u001b[39m \u001b[43m        \u001b[49m\u001b[43m]\u001b[49m\n\u001b[32m    195\u001b[39m     )\n\u001b[32m    196\u001b[39m \u001b[38;5;28;01melse\u001b[39;00m:\n\u001b[32m    197\u001b[39m     \u001b[38;5;28;01mreturn\u001b[39;00m \u001b[38;5;28mself\u001b[39m._xbond_energy(\n\u001b[32m    198\u001b[39m         cache.numbers,\n\u001b[32m    199\u001b[39m         positions,\n\u001b[32m    200\u001b[39m         cache.xbond,\n\u001b[32m    201\u001b[39m     )\n",
      "\u001b[36mFile \u001b[39m\u001b[32m~/OrbSpin-EtE/models/dxtb/src/dxtb/_src/components/classicals/halogen/hal.py:188\u001b[39m, in \u001b[36m<listcomp>\u001b[39m\u001b[34m(.0)\u001b[39m\n\u001b[32m    169\u001b[39m \u001b[38;5;250m\u001b[39m\u001b[33;03m\"\"\"\u001b[39;00m\n\u001b[32m    170\u001b[39m \u001b[33;03mHandle batchwise and single calculation of halogen bonding energy.\u001b[39;00m\n\u001b[32m    171\u001b[39m \n\u001b[32m   (...)\u001b[39m\u001b[32m    182\u001b[39m \u001b[33;03m     Atomwise energy contributions from halogen bonds.\u001b[39;00m\n\u001b[32m    183\u001b[39m \u001b[33;03m\"\"\"\u001b[39;00m\n\u001b[32m    185\u001b[39m \u001b[38;5;28;01mif\u001b[39;00m cache.numbers.ndim > \u001b[32m1\u001b[39m:\n\u001b[32m    186\u001b[39m     \u001b[38;5;28;01mreturn\u001b[39;00m pack(\n\u001b[32m    187\u001b[39m         [\n\u001b[32m--> \u001b[39m\u001b[32m188\u001b[39m             \u001b[38;5;28;43mself\u001b[39;49m\u001b[43m.\u001b[49m\u001b[43m_xbond_energy\u001b[49m\u001b[43m(\u001b[49m\n\u001b[32m    189\u001b[39m \u001b[43m                \u001b[49m\u001b[43mcache\u001b[49m\u001b[43m.\u001b[49m\u001b[43mnumbers\u001b[49m\u001b[43m[\u001b[49m\u001b[43m_batch\u001b[49m\u001b[43m]\u001b[49m\u001b[43m,\u001b[49m\n\u001b[32m    190\u001b[39m \u001b[43m                \u001b[49m\u001b[43mpositions\u001b[49m\u001b[43m[\u001b[49m\u001b[43m_batch\u001b[49m\u001b[43m]\u001b[49m\u001b[43m,\u001b[49m\n\u001b[32m    191\u001b[39m \u001b[43m                \u001b[49m\u001b[43mcache\u001b[49m\u001b[43m.\u001b[49m\u001b[43mxbond\u001b[49m\u001b[43m[\u001b[49m\u001b[43m_batch\u001b[49m\u001b[43m]\u001b[49m\u001b[43m,\u001b[49m\n\u001b[32m    192\u001b[39m \u001b[43m            \u001b[49m\u001b[43m)\u001b[49m\n\u001b[32m    193\u001b[39m             \u001b[38;5;28;01mfor\u001b[39;00m _batch \u001b[38;5;129;01min\u001b[39;00m \u001b[38;5;28mrange\u001b[39m(cache.numbers.shape[\u001b[32m0\u001b[39m])\n\u001b[32m    194\u001b[39m         ]\n\u001b[32m    195\u001b[39m     )\n\u001b[32m    196\u001b[39m \u001b[38;5;28;01melse\u001b[39;00m:\n\u001b[32m    197\u001b[39m     \u001b[38;5;28;01mreturn\u001b[39;00m \u001b[38;5;28mself\u001b[39m._xbond_energy(\n\u001b[32m    198\u001b[39m         cache.numbers,\n\u001b[32m    199\u001b[39m         positions,\n\u001b[32m    200\u001b[39m         cache.xbond,\n\u001b[32m    201\u001b[39m     )\n",
      "\u001b[36mFile \u001b[39m\u001b[32m~/OrbSpin-EtE/models/dxtb/src/dxtb/_src/components/classicals/halogen/hal.py:299\u001b[39m, in \u001b[36mHalogen._xbond_energy\u001b[39m\u001b[34m(self, numbers, positions, xbond)\u001b[39m\n\u001b[32m    293\u001b[39m halogen_mask = torch.zeros(\n\u001b[32m    294\u001b[39m     numbers.shape,\n\u001b[32m    295\u001b[39m     device=\u001b[38;5;28mself\u001b[39m.device,\n\u001b[32m    296\u001b[39m     dtype=torch.bool,\n\u001b[32m    297\u001b[39m )\n\u001b[32m    298\u001b[39m \u001b[38;5;28;01mfor\u001b[39;00m halogen \u001b[38;5;129;01min\u001b[39;00m \u001b[38;5;28mself\u001b[39m.halogens:\n\u001b[32m--> \u001b[39m\u001b[32m299\u001b[39m     halogen_mask += numbers == halogen\n\u001b[32m    301\u001b[39m \u001b[38;5;66;03m# return if no halogens are present\u001b[39;00m\n\u001b[32m    302\u001b[39m \u001b[38;5;28;01mif\u001b[39;00m halogen_mask.nonzero().size(-\u001b[32m2\u001b[39m) == \u001b[32m0\u001b[39m:\n",
      "\u001b[31mKeyboardInterrupt\u001b[39m: "
     ]
    }
   ],
   "source": [
    "import os\n",
    "\n",
    "os.environ[\"CUDA_LAUNCH_BLOCKING\"] = \"1\"\n",
    "os.environ[\"CUBLAS_WORKSPACE_CONFIG\"] = \":4096:8\"\n",
    "os.environ[\"PYTORCH_JIT_DISABLE_NVFUSER\"] = \"1\"\n",
    "os.environ[\"TORCH_COMPILE_DISABLE\"] = \"1\"\n",
    "\n",
    "###########################################################\n",
    "\n",
    "import torch\n",
    "import numpy as np\n",
    "import dxtb\n",
    "from tqdm import tqdm\n",
    "\n",
    "\n",
    "torch.autograd.set_detect_anomaly(False)\n",
    "torch.use_deterministic_algorithms(False, warn_only=False)\n",
    "torch.set_deterministic_debug_mode(False)\n",
    "torch.backends.cudnn.deterministic = False\n",
    "torch.backends.cudnn.benchmark = False\n",
    "\n",
    "torch.manual_seed(0)\n",
    "torch.cuda.manual_seed_all(0)\n",
    "np.random.seed(0)\n",
    "\n",
    "torch.cuda.empty_cache()\n",
    "\n",
    "###########################################################\n",
    "\n",
    "print(\"Torch version:\", torch.__version__)\n",
    "print(\"CUDA version:\", torch.version.cuda)\n",
    "print(\"CUDNN version:\", torch.backends.cudnn.version())\n",
    "\n",
    "###########################################################\n",
    "\n",
    "problematic_batch_path = \"../problematic_batches/problematic_batch_for_full.pt\"\n",
    "\n",
    "dd = {\"dtype\": torch.float32, \"device\": torch.device(\"cuda:0\")}\n",
    "opts = {\n",
    "    \"scf_mode\": \"full\",\n",
    "    \"batch_mode\": 2, \n",
    "    \"int_driver\": \"libcint\",\n",
    "    \"exclude\": [\"disp\"], # excluding D3 fixes the issue\n",
    "}\n",
    "\n",
    "# Load the problematic batch\n",
    "problematic_batch = torch.load(\n",
    "    problematic_batch_path, weights_only=False\n",
    ")\n",
    "numbers = problematic_batch[\"numbers\"].to(dd[\"device\"])\n",
    "positions = problematic_batch[\"positions\"].to(**dd)\n",
    "\n",
    "batch_size = numbers.shape[0]\n",
    "charges = torch.full((batch_size,), 0, **dd)\n",
    "\n",
    "calc = dxtb.Calculator(numbers, dxtb.GFN1_XTB, **dd, opts=opts)\n",
    "\n",
    "for i in tqdm(range(100)):\n",
    "    e = calc.get_energy(positions, chrg=charges)\n",
    "    forces = torch.autograd.grad(e.sum(), positions, retain_graph=True)[0]\n",
    "\n",
    "    # MF: Also fails, when commented out\n",
    "    # Features calc\n",
    "    func = lambda e, p: -torch.autograd.grad(e.sum(), p, retain_graph=True)[0]\n",
    "    res = func(e, positions)"
   ]
  },
  {
   "cell_type": "markdown",
   "id": "0b7674a8",
   "metadata": {},
   "source": [
    "# Checks about the sample"
   ]
  },
  {
   "cell_type": "markdown",
   "id": "82c49088",
   "metadata": {},
   "source": [
    "It is a sample from the Transition1x dataset. Specifically C2H2N2O/rxn2091. So a single molecule at different steps in the reaction path. Units of the positions are Bohr."
   ]
  },
  {
   "cell_type": "code",
   "execution_count": null,
   "id": "a8933865",
   "metadata": {},
   "outputs": [],
   "source": [
    "problematic_batch = torch.load(problematic_batch_path, weights_only=False)\n",
    "numbers = problematic_batch[\"numbers\"]\n",
    "positions = problematic_batch[\"positions\"]\n",
    "\n",
    "print(f\"numbers.shape: {numbers.shape}\")\n",
    "print(f\"positions.shape: {positions.shape}\")\n",
    "\n",
    "print(f\"\\nSubset:\")\n",
    "idx = 0\n",
    "print(f\"numbers[0]: {numbers[idx]}\")\n",
    "print(f\"positions[0]: {positions[idx]}\")\n",
    "\n",
    "print(\"\\nProperties of the problematic batch:\")\n",
    "print(f\"isnan positions: {torch.isnan(positions).any()}\")\n",
    "print(f\"isinf positions: {torch.isinf(positions).any()}\")\n",
    "print(f\"max positions: {positions.max()}\")\n",
    "print(f\"min positions: {positions.min()}\")\n"
   ]
  },
  {
   "cell_type": "markdown",
   "id": "286ceef5",
   "metadata": {},
   "source": [
    "# Comments"
   ]
  },
  {
   "cell_type": "markdown",
   "id": "0f27ac10",
   "metadata": {},
   "source": [
    "- Env:\n",
    "    - Python 3.11\n",
    "    - Just pip install -e . of the main branch of dxtb\n",
    "    - pip install jupyter notebook tqdm torch tad-libcint\n",
    "\n",
    "    - Torch 2.5.1, CUDA 12.4, driver 550.120\n",
    "\n",
    "\n",
    "- If restarting the kernel after each run it does not break. Maybe something is cached in the calculator? \n",
    "\n",
    "- It is only breaking when using a function. "
   ]
  }
 ],
 "metadata": {
  "kernelspec": {
   "display_name": "orbnet-ete",
   "language": "python",
   "name": "python3"
  },
  "language_info": {
   "codemirror_mode": {
    "name": "ipython",
    "version": 3
   },
   "file_extension": ".py",
   "mimetype": "text/x-python",
   "name": "python",
   "nbconvert_exporter": "python",
   "pygments_lexer": "ipython3",
   "version": "3.11.11"
  }
 },
 "nbformat": 4,
 "nbformat_minor": 5
}
