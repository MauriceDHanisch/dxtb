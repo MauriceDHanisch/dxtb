{
 "cells": [
  {
   "cell_type": "code",
   "execution_count": null,
   "metadata": {},
   "outputs": [],
   "source": [
    "%reload_ext autoreload\n",
    "%autoreload 2\n",
    "\n",
    "from log_funcs import *\n",
    "\n",
    "res_grid = parse_grid_log(f\"../logs/alkane_chain_E_grid_batch.txt\", keyword=\"Total\")\n",
    "res_curve = parse_curve_log(\"../logs/alkane_chain_E_curve.txt\", keyword=\"Total\")\n",
    "\n",
    "print(f\"nb of molecules grid: {len(res_grid)}\")\n",
    "print(res_grid[2])\n",
    "\n",
    "print(f\"nb of molecules curve: {len(res_curve)}\")\n",
    "print(res_curve[2])"
   ]
  },
  {
   "cell_type": "code",
   "execution_count": null,
   "metadata": {},
   "outputs": [],
   "source": [
    "res_curve = parse_curve_log(\"../logs/alkane_chain_E_curve.txt\", keyword=\"Total\")\n",
    "fig = plot_curve_times(res_curve[:-1], dpi=200)"
   ]
  },
  {
   "cell_type": "code",
   "execution_count": null,
   "metadata": {},
   "outputs": [],
   "source": [
    "\n",
    "res_grid = parse_grid_log(f\"../logs/alkane_chain_E_grid_batch.txt\", keyword=\"Total\")\n",
    "print([res['n'] for res in res_grid[1:-1]])\n",
    "plot_grid_times(res_grid[1:-1][0:], dpi=500)\n"
   ]
  },
  {
   "cell_type": "code",
   "execution_count": null,
   "metadata": {},
   "outputs": [],
   "source": [
    "plot_time_vs_batch_size_at_n_atoms(res_grid[1:-1], n_atoms=140, anchor_batch_size=80, dpi=200)"
   ]
  }
 ],
 "metadata": {
  "kernelspec": {
   "display_name": "dxtb",
   "language": "python",
   "name": "python3"
  },
  "language_info": {
   "codemirror_mode": {
    "name": "ipython",
    "version": 3
   },
   "file_extension": ".py",
   "mimetype": "text/x-python",
   "name": "python",
   "nbconvert_exporter": "python",
   "pygments_lexer": "ipython3",
   "version": "3.11.11"
  }
 },
 "nbformat": 4,
 "nbformat_minor": 2
}
