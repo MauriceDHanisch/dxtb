{
 "cells": [
  {
   "cell_type": "code",
   "execution_count": 1,
   "metadata": {},
   "outputs": [
    {
     "name": "stdout",
     "output_type": "stream",
     "text": [
      "alkane_355_carbons\n",
      "[6 6 6 ... 1 1 1]\n",
      "nat: 1067\n",
      "number of C atoms: 355\n",
      "shape of coordinates: (1067, 3)\n"
     ]
    }
   ],
   "source": [
    "import h5py\n",
    "\n",
    "with h5py.File('alkanes_data_500.hdf5', \"r\") as f:\n",
    "    sorted_keys = sorted(f.keys(), key=lambda x: int(x.split('_')[1]))\n",
    "    print(sorted_keys[-1])\n",
    "    print(f[sorted_keys[-1]].get('atomic_numbers')[()])\n",
    "    print(f\"nat: {len(f[sorted_keys[-1]].get('atomic_numbers')[()])}\")\n",
    "    print(f\"number of C atoms: {len([x for x in f[sorted_keys[-1]].get('atomic_numbers')[()] if x == 6])}\")\n",
    "    print(f\"shape of coordinates: {f[sorted_keys[-1]].get('coordinates').shape}\")"
   ]
  },
  {
   "cell_type": "code",
   "execution_count": 25,
   "metadata": {},
   "outputs": [
    {
     "name": "stderr",
     "output_type": "stream",
     "text": [
      "100%|██████████| 45/45 [01:24<00:00,  1.89s/it]"
     ]
    },
    {
     "name": "stdout",
     "output_type": "stream",
     "text": [
      "Alkane with 167 atoms\n",
      "Alkane with 170 atoms\n",
      "Alkane with 173 atoms\n",
      "Alkane with 176 atoms\n",
      "Alkane with 179 atoms\n",
      "Alkane with 182 atoms\n",
      "Alkane with 185 atoms\n",
      "Alkane with 188 atoms\n",
      "Alkane with 191 atoms\n",
      "Alkane with 194 atoms\n",
      "Alkane with 197 atoms\n",
      "Alkane with 200 atoms\n",
      "Alkane with 203 atoms\n",
      "Alkane with 206 atoms\n",
      "Alkane with 209 atoms\n",
      "Alkane with 212 atoms\n",
      "Alkane with 215 atoms\n",
      "Alkane with 218 atoms\n",
      "Alkane with 221 atoms\n",
      "Alkane with 224 atoms\n",
      "Alkane with 227 atoms\n",
      "Alkane with 230 atoms\n",
      "Alkane with 233 atoms\n",
      "Alkane with 236 atoms\n",
      "Alkane with 239 atoms\n",
      "Alkane with 242 atoms\n",
      "Alkane with 245 atoms\n",
      "Alkane with 248 atoms\n",
      "Alkane with 251 atoms\n",
      "Alkane with 254 atoms\n",
      "Alkane with 257 atoms\n",
      "Alkane with 260 atoms\n",
      "Alkane with 263 atoms\n",
      "Alkane with 266 atoms\n",
      "Alkane with 269 atoms\n",
      "Alkane with 272 atoms\n",
      "Alkane with 275 atoms\n",
      "Alkane with 278 atoms\n",
      "Alkane with 281 atoms\n",
      "Alkane with 284 atoms\n",
      "Alkane with 287 atoms\n",
      "Alkane with 290 atoms\n",
      "Alkane with 293 atoms\n",
      "Alkane with 296 atoms\n",
      "Alkane with 299 atoms\n"
     ]
    },
    {
     "name": "stderr",
     "output_type": "stream",
     "text": [
      "\n"
     ]
    }
   ],
   "source": [
    "from tqdm import tqdm\n",
    "from rdkit import Chem\n",
    "from rdkit.Chem import AllChem\n",
    "\n",
    "# Function to generate alkane chains with hydrogens added\n",
    "def generate_alkane_chain(length, max_iters=100):\n",
    "    smiles = \"C\" * length  # Create a string of 'C's for the desired alkane length\n",
    "    alkane = Chem.MolFromSmiles(smiles)\n",
    "    alkane = Chem.AddHs(alkane)  # Add hydrogens to satisfy valency\n",
    "    AllChem.EmbedMolecule(alkane, useRandomCoords=True)  # Generate 3D coordinates\n",
    "    # AllChem.UFFOptimizeMolecule(alkane, maxIters=max_iters)  # Optimize 3D structure\n",
    "    AllChem.UFFOptimizeMolecule(alkane)  # Optimize 3D structure\n",
    "    return alkane\n",
    "\n",
    "# Generate a list of alkanes from methane to decane\n",
    "# alkane_chain_list = [generate_alkane_chain(i) for i in range(1, 11)]  # Lengths 1 to 10\n",
    "alkane_chain_list = []\n",
    "for i in tqdm(range(55, 100)):\n",
    "    alkane_chain_list.append(generate_alkane_chain(i))\n",
    "\n",
    "for i, alkane in enumerate(alkane_chain_list):\n",
    "    print(f\"Alkane with {len(alkane.GetAtoms())} atoms\")\n",
    "\n",
    "# Display atom positions and element numbers for each alkane\n",
    "# for i, alkane in enumerate(alkane_chain_list, 1):\n",
    "#     print(f\"\\nAlkane with {i} carbons:\")\n",
    "#     conf = alkane.GetConformer()\n",
    "#     atom_positions = [conf.GetAtomPosition(atom.GetIdx()) for atom in alkane.GetAtoms()]\n",
    "#     element_numbers = [atom.GetAtomicNum() for atom in alkane.GetAtoms()]\n",
    "#     print(\"Element numbers:\", element_numbers)\n",
    "\n",
    "#     # Print positions and element numbers including hydrogens\n",
    "#     for idx, (pos, elem_num) in enumerate(zip(atom_positions, element_numbers)):\n",
    "#         print(f\"Atom {idx+1}: Element {elem_num}, Position ({pos.x:.3f}, {pos.y:.3f}, {pos.z:.3f})\")\n"
   ]
  },
  {
   "cell_type": "code",
   "execution_count": 7,
   "metadata": {},
   "outputs": [
    {
     "name": "stdout",
     "output_type": "stream",
     "text": [
      "Atom 1: Position (0, 0, 0)\n",
      "Atom 2: Position (-0.5140625632200073, -1.4516678962819547, 0.0)\n",
      "Atom 3: Position (-1.0281251264400146, 0.0, 0.0)\n",
      "Atom 4: Position (-1.542187689660022, -1.4516678962819547, 0.0)\n",
      "Atom 5: Position (-2.0562502528800293, 0.0, 0.0)\n",
      "Atom 6: Position (-2.570312816100037, -1.4516678962819547, 0.0)\n",
      "Atom 7: Position (-3.0843753793200444, 0.0, 0.0)\n",
      "Atom 8: Position (-3.598437942540052, -1.4516678962819547, 0.0)\n",
      "Atom 9: Position (-4.112500505760059, 0.0, 0.0)\n",
      "Atom 10: Position (-4.626563068980067, -1.4516678962819547, 0.0)\n",
      "\n",
      "Generated alkane with 3002 atoms (including hydrogens).\n"
     ]
    }
   ],
   "source": [
    "import numpy as np\n",
    "from rdkit import Chem\n",
    "from rdkit.Chem import AllChem\n",
    "\n",
    "# Function to generate an alkane in a zigzag pattern\n",
    "def generate_zigzag_alkane(length, bond_length=1.54, angle_deg=109.5):\n",
    "    mol = Chem.RWMol()  # Create an editable molecule\n",
    "    carbon_atom = Chem.Atom(6)  # Atomic number for carbon\n",
    "    \n",
    "    # Add the first carbon atom\n",
    "    mol.AddAtom(carbon_atom)\n",
    "    positions = [(0, 0, 0)]  # Initial position for the first atom\n",
    "    \n",
    "    # Calculate angle and bond vector for zigzag pattern\n",
    "    angle_rad = np.radians(angle_deg)\n",
    "    bond_vector = np.array([bond_length, 0, 0])  # Initial bond along the x-axis\n",
    "    \n",
    "    # Add subsequent carbons in zigzag\n",
    "    for i in range(1, length):\n",
    "        if i % 2 == 0:\n",
    "            bond_vector = np.array([bond_length * np.cos(angle_rad), bond_length * np.sin(angle_rad), 0])\n",
    "        else:\n",
    "            bond_vector = np.array([bond_length * np.cos(angle_rad), -bond_length * np.sin(angle_rad), 0])\n",
    "        \n",
    "        # Calculate new position by adding bond vector to previous position\n",
    "        new_position = np.array(positions[-1]) + bond_vector\n",
    "        positions.append(tuple(new_position))  # Save new position\n",
    "        \n",
    "        # Add a new carbon atom to the molecule\n",
    "        mol.AddAtom(carbon_atom)\n",
    "        mol.AddBond(i - 1, i, Chem.BondType.SINGLE)\n",
    "    \n",
    "    # Update properties before adding hydrogens\n",
    "    mol.UpdatePropertyCache(strict=False)\n",
    "    mol = mol.GetMol()  # Convert to a regular RDKit molecule\n",
    "    mol = Chem.AddHs(mol)  # Add hydrogens to satisfy carbon valency\n",
    "    \n",
    "    # Embed positions into RDKit molecule with hydrogens\n",
    "    conf = Chem.Conformer(mol.GetNumAtoms())  # Update conformer to match all atoms, including hydrogens\n",
    "    for i, pos in enumerate(positions):\n",
    "        conf.SetAtomPosition(i, pos)\n",
    "    \n",
    "    # Add the conformer to the molecule\n",
    "    mol.AddConformer(conf)\n",
    "    \n",
    "    return mol, positions\n",
    "\n",
    "# Generate an alkane with 100 carbons\n",
    "alkane, positions = generate_zigzag_alkane(1000)\n",
    "\n",
    "# Display some positions for verification\n",
    "for i, pos in enumerate(positions[:10]):  # Print first 10 positions for a quick check\n",
    "    print(f\"Atom {i + 1}: Position {pos}\")\n",
    "print(f\"\\nGenerated alkane with {alkane.GetNumAtoms()} atoms (including hydrogens).\")\n"
   ]
  }
 ],
 "metadata": {
  "kernelspec": {
   "display_name": "orbnet_dxtb",
   "language": "python",
   "name": "python3"
  },
  "language_info": {
   "codemirror_mode": {
    "name": "ipython",
    "version": 3
   },
   "file_extension": ".py",
   "mimetype": "text/x-python",
   "name": "python",
   "nbconvert_exporter": "python",
   "pygments_lexer": "ipython3",
   "version": "3.9.19"
  }
 },
 "nbformat": 4,
 "nbformat_minor": 2
}
