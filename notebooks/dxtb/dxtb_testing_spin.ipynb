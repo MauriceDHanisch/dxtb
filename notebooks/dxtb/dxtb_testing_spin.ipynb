{
 "cells": [
  {
   "cell_type": "code",
   "execution_count": 7,
   "metadata": {},
   "outputs": [
    {
     "name": "stderr",
     "output_type": "stream",
     "text": [
      "Total Energy: -23.28352325126154 Hartree.\n"
     ]
    }
   ],
   "source": [
    "import torch\n",
    "import dxtb\n",
    "from dxtb.typing import DD\n",
    "\n",
    "dd: DD = {\"dtype\": torch.double, \"device\": torch.device(\"cpu\")}\n",
    "\n",
    "numbers = torch.tensor([6, 6, 7, 7, 1, 1, 1, 1, 1, 1, 8, 8,], device=dd[\"device\"])\n",
    "positions = torch.tensor([\n",
    "                [-3.81469488143921, +0.09993441402912, 0.00000000000000],\n",
    "                [+3.81469488143921, -0.09993441402912, 0.00000000000000],\n",
    "                [-2.66030049324036, -2.15898251533508, 0.00000000000000],\n",
    "                [+2.66030049324036, +2.15898251533508, 0.00000000000000],\n",
    "                [-0.73178529739380, -2.28237795829773, 0.00000000000000],\n",
    "                [-5.89039325714111, -0.02589114569128, 0.00000000000000],\n",
    "                [-3.71254944801331, -3.73605775833130, 0.00000000000000],\n",
    "                [+3.71254944801331, +3.73605775833130, 0.00000000000000],\n",
    "                [+0.73178529739380, +2.28237795829773, 0.00000000000000],\n",
    "                [+5.89039325714111, +0.02589114569128, 0.00000000000000],\n",
    "                [-2.74426102638245, +2.16115570068359, 0.00000000000000],\n",
    "                [+2.74426102638245, -2.16115570068359, 0.00000000000000],\n",
    "                ], **dd) # ** to use dd as kwargs\n",
    "\n",
    "calc = dxtb.calculators.GFN1Calculator(numbers,  **dd) # Better for argument checking\n",
    "calc = dxtb.Calculator(numbers, dxtb.GFN1_XTB, **dd)\n",
    "\n",
    "# compute the energy\n",
    "pos = positions.clone().requires_grad_(True)\n",
    "energy = calc.get_energy(pos, verbosity = 0)"
   ]
  },
  {
   "cell_type": "code",
   "execution_count": 2,
   "metadata": {},
   "outputs": [
    {
     "name": "stderr",
     "output_type": "stream",
     "text": [
      "Total Energy: -23.08744880283994 Hartree.\n"
     ]
    }
   ],
   "source": [
    "calc = dxtb.Calculator(numbers, dxtb.GFN1_XTB, **dd)\n",
    "energy = calc.get_energy(positions, spin=2)"
   ]
  },
  {
   "cell_type": "markdown",
   "metadata": {},
   "source": [
    "# Check shape of P, E and C if I change the spin"
   ]
  },
  {
   "cell_type": "code",
   "execution_count": 3,
   "metadata": {},
   "outputs": [
    {
     "name": "stderr",
     "output_type": "stream",
     "text": [
      "Total Energy: -23.28352325126154 Hartree.\n",
      "Total Energy: -22.51576773181534 Hartree.\n"
     ]
    },
    {
     "name": "stdout",
     "output_type": "stream",
     "text": [
      "density_spinNone.shape = torch.Size([36, 36])\n",
      "density_spin0.shape = torch.Size([36, 36])\n"
     ]
    }
   ],
   "source": [
    "from dxtb.config import ConfigCache\n",
    "\n",
    "cache_config = ConfigCache(density=True, coefficients=True, mo_energies=True)\n",
    "calc = dxtb.Calculator(numbers, dxtb.GFN1_XTB, **dd)\n",
    "calc.opts.cache = cache_config\n",
    "\n",
    "density_spinNone = calc.get_density(pos, spin=None)\n",
    "density_spin0 = calc.get_density(pos, spin=6)\n",
    "# coefficients = calc.get_coefficients(pos)\n",
    "# energies = calc.get_mo_energies(pos)\n",
    "\n",
    "print(f\"density_spinNone.shape = {density_spinNone.shape}\")\n",
    "print(f\"density_spin0.shape = {density_spin0.shape}\")\n"
   ]
  },
  {
   "cell_type": "markdown",
   "metadata": {},
   "source": [
    "# Check from tblite"
   ]
  },
  {
   "cell_type": "code",
   "execution_count": 4,
   "metadata": {},
   "outputs": [
    {
     "name": "stdout",
     "output_type": "stream",
     "text": [
      "------------------------------------------------------------\n",
      "  cycle        total energy    energy error   density error\n",
      "------------------------------------------------------------\n",
      "      1     -22.85385429255  -2.3068396E+01   4.7115501E-01\n",
      "      2     -23.27567606155  -4.2182177E-01   2.3065474E-01\n",
      "      3     -23.28258085318  -6.9047916E-03   1.1021572E-01\n",
      "      4     -23.28330667123  -7.2581805E-04   1.4057292E-02\n",
      "      5     -23.28349930909  -1.9263785E-04   5.4079723E-03\n",
      "      6     -23.28352212644  -2.2817352E-05   8.2885093E-04\n",
      "      7     -23.28352167143   4.5500649E-07   6.9884287E-04\n",
      "      8     -23.28352428611  -2.6146786E-06   1.5998298E-05\n",
      "      9     -23.28352428643  -3.1952396E-10   1.5132300E-05\n",
      "------------------------------------------------------------\n",
      "\n",
      " total:                                   0.012 sec\n",
      "P.shape = (2, 36, 36)\n"
     ]
    }
   ],
   "source": [
    "from tblite.interface import Calculator\n",
    "\n",
    "calc_tblite = Calculator(\n",
    "    method = \"GFN1-xTB\",\n",
    "    numbers = numbers.numpy(),\n",
    "    positions = positions.numpy(),\n",
    "    uhf=0\n",
    ")\n",
    "\n",
    "calc_tblite.add(\"spin-polarization\", 1.0)\n",
    "calc_tblite.set(\"save-integrals\", 1)\n",
    "res = calc_tblite.singlepoint()\n",
    "\n",
    "P = res[\"density-matrix\"]\n",
    "\n",
    "print(f\"P.shape = {P.shape}\")"
   ]
  },
  {
   "cell_type": "markdown",
   "metadata": {},
   "source": [
    "# Check interaction term dxtb"
   ]
  },
  {
   "cell_type": "code",
   "execution_count": 8,
   "metadata": {},
   "outputs": [],
   "source": [
    "from dxtb.components.base import Interaction\n",
    "\n",
    "inter = Interaction(**dd)\n"
   ]
  }
 ],
 "metadata": {
  "kernelspec": {
   "display_name": "orbnet_tblite_libpath",
   "language": "python",
   "name": "orbnet_tblite_libpath"
  },
  "language_info": {
   "codemirror_mode": {
    "name": "ipython",
    "version": 3
   },
   "file_extension": ".py",
   "mimetype": "text/x-python",
   "name": "python",
   "nbconvert_exporter": "python",
   "pygments_lexer": "ipython3",
   "version": "3.9.19"
  }
 },
 "nbformat": 4,
 "nbformat_minor": 2
}
