{
 "cells": [
  {
   "cell_type": "code",
   "execution_count": 1,
   "metadata": {},
   "outputs": [],
   "source": [
    "import numpy as np\n",
    "\n",
    "def _get_permutation_map_closedshell_convention(element_numbers):\n",
    "    \"\"\"\n",
    "    Permutation map for converting the matrices obtained from `tblite`\n",
    "    GFN-xTB (closed shell) to the convention for orbnet-equi.\n",
    "\n",
    "    Input (dxtb) convention:\n",
    "     - H: [1s, 2s]\n",
    "     - C,N,O,F: [2s, 2pz, 2px, 2py]\n",
    "    Output (tblite) convention:\n",
    "     - H: [1s, 2s] (no change)\n",
    "     - C,N,O,F: [2s, 2px, 2py, 2pz]\n",
    "    \"\"\"\n",
    "    n_so = 0\n",
    "    for el in element_numbers:\n",
    "        if el == 1:\n",
    "            n_so += 2\n",
    "        else:\n",
    "            n_so += 4\n",
    "\n",
    "    perm_map = np.zeros(n_so, dtype=int)\n",
    "    idx = 0\n",
    "    for el in element_numbers:\n",
    "        if el == 1:\n",
    "            pmap = [idx, idx + 1]\n",
    "            perm_map[idx : idx + 2] = pmap\n",
    "            idx += 2\n",
    "        else:\n",
    "            # [s, pz, px, py] -> [s, px, py, pz]\n",
    "            pmap = [idx, idx + 2, idx + 3, idx + 1]\n",
    "            perm_map[idx : idx + 4] = pmap\n",
    "            idx += 4\n",
    "    return perm_map\n",
    "\n",
    "def _get_permutation_map_closedshell_convention_dxtb_to_OrbNet(element_numbers):\n",
    "    \"\"\"\n",
    "    Permutation map for converting the matrices obtained from `tblite`\n",
    "    GFN-xTB (closed shell) to the convention for orbnet-equi.\n",
    "\n",
    "    Input (dxtb) convention:\n",
    "     - H: [1s, 2s]\n",
    "     - C,N,O,F: [2s, 2pz, 2px, 2py]\n",
    "    Output (orbnet-equi) convention:\n",
    "     - H: [1s, 2s] (no change)\n",
    "     - C,N,O,F: [2s, 2pz, 2py, 2px]\n",
    "    \"\"\"\n",
    "    n_so = 0\n",
    "    for el in element_numbers:\n",
    "        if el == 1:\n",
    "            n_so += 2\n",
    "        else:\n",
    "            n_so += 4\n",
    "\n",
    "    perm_map = np.zeros(n_so, dtype=int)\n",
    "    idx = 0\n",
    "    for el in element_numbers:\n",
    "        if el == 1:\n",
    "            pmap = [idx, idx + 1]\n",
    "            perm_map[idx : idx + 2] = pmap\n",
    "            idx += 2\n",
    "        else:\n",
    "            # [s, pz, px, py] -> [s, pz, py, px]\n",
    "            pmap = [idx, idx + 1, idx + 3, idx + 2]\n",
    "            perm_map[idx : idx + 4] = pmap\n",
    "            idx += 4\n",
    "    return perm_map\n",
    "\n",
    "def apply_perm_map(mat, perm_map):\n",
    "    ndim = mat.ndim\n",
    "    if ndim == 1:\n",
    "        matp = mat[perm_map]\n",
    "    elif ndim == 2:\n",
    "        matp = mat[perm_map, :]\n",
    "        matp = matp[:, perm_map]\n",
    "    else:\n",
    "        raise ValueError(\"Only 1D and 2D arrays are supported.\")\n",
    "    return matp"
   ]
  },
  {
   "cell_type": "code",
   "execution_count": 2,
   "metadata": {},
   "outputs": [
    {
     "ename": "ModuleNotFoundError",
     "evalue": "No module named 'dxtb'",
     "output_type": "error",
     "traceback": [
      "\u001b[0;31m---------------------------------------------------------------------------\u001b[0m",
      "\u001b[0;31mModuleNotFoundError\u001b[0m                       Traceback (most recent call last)",
      "Cell \u001b[0;32mIn[2], line 2\u001b[0m\n\u001b[1;32m      1\u001b[0m \u001b[38;5;28;01mimport\u001b[39;00m \u001b[38;5;21;01mtorch\u001b[39;00m\n\u001b[0;32m----> 2\u001b[0m \u001b[38;5;28;01mimport\u001b[39;00m \u001b[38;5;21;01mdxtb\u001b[39;00m\n\u001b[1;32m      3\u001b[0m \u001b[38;5;28;01mfrom\u001b[39;00m \u001b[38;5;21;01mdxtb\u001b[39;00m\u001b[38;5;21;01m.\u001b[39;00m\u001b[38;5;21;01mtyping\u001b[39;00m \u001b[38;5;28;01mimport\u001b[39;00m DD\n\u001b[1;32m      4\u001b[0m \u001b[38;5;28;01mfrom\u001b[39;00m \u001b[38;5;21;01mdxtb\u001b[39;00m\u001b[38;5;21;01m.\u001b[39;00m\u001b[38;5;21;01mconfig\u001b[39;00m \u001b[38;5;28;01mimport\u001b[39;00m ConfigCache\n",
      "\u001b[0;31mModuleNotFoundError\u001b[0m: No module named 'dxtb'"
     ]
    }
   ],
   "source": [
    "import torch\n",
    "import dxtb\n",
    "from dxtb.typing import DD\n",
    "from dxtb.config import ConfigCache\n",
    "from dxtb.integrals.wrappers import overlap, dipint, hcore\n",
    "\n",
    "dd: DD = {\"dtype\": torch.double, \"device\": torch.device(\"cpu\")}\n",
    "\n",
    "# numbers = torch.tensor([6, 6, 7, 7, 1, 1, 1, 1, 1, 1, 8, 8,], device=dd[\"device\"])\n",
    "# positions = torch.tensor([\n",
    "#                 [-3.81469488143921, +0.09993441402912, 0.00000000000000],\n",
    "#                 [+3.81469488143921, -0.09993441402912, 0.00000000000000],\n",
    "#                 [-2.66030049324036, -2.15898251533508, 0.00000000000000],\n",
    "#                 [+2.66030049324036, +2.15898251533508, 0.00000000000000],\n",
    "#                 [-0.73178529739380, -2.28237795829773, 0.00000000000000],\n",
    "#                 [-5.89039325714111, -0.02589114569128, 0.00000000000000],\n",
    "#                 [-3.71254944801331, -3.73605775833130, 0.00000000000000],\n",
    "#                 [+3.71254944801331, +3.73605775833130, 0.00000000000000],\n",
    "#                 [+0.73178529739380, +2.28237795829773, 0.00000000000000],\n",
    "#                 [+5.89039325714111, +0.02589114569128, 0.00000000000000],\n",
    "#                 [-2.74426102638245, +2.16115570068359, 0.00000000000000],\n",
    "#                 [+2.74426102638245, -2.16115570068359, 0.00000000000000],\n",
    "#                 ], **dd) # ** to use dd as kwargs\n",
    "\n",
    "numbers = torch.tensor([3, 1], device=dd[\"device\"])\n",
    "positions = torch.tensor([[0.0, 0.0, 0.0], [0.0, 0.0, 1.5]], **dd) # ** to use dd as kwargs \n",
    "\n",
    "# numbers = torch.tensor([1, 3], device=dd[\"device\"])\n",
    "# positions = torch.tensor([[0.0, 0.0, 1.5], [0.0, 0.0, 0.0]], **dd) # ** to use dd as kwargs \n",
    "\n",
    "# numbers = torch.tensor([3], device=dd[\"device\"])\n",
    "# positions = torch.tensor([[0.0, 0.0, 0.0]], **dd) # ** to use dd as kwargs\n",
    "\n",
    "# numbers = torch.tensor([6, 1, 1, 8, 9], device=dd[\"device\"])\n",
    "# positions = torch.tensor([\n",
    "#     [0.0, 0.0, 0.0],      # C (Carbon)\n",
    "#     [1.0, 0.0, 0.0],      # H (Hydrogen)\n",
    "#     [-1.0, 0.0, 0.0],     # H (Hydrogen)\n",
    "#     [0.0, 1.0, 0.0],      # O (Oxygen)\n",
    "#     [0.0, -1.0, 0.0]      # F (Fluorine)\n",
    "# ], **dd)\n",
    "\n",
    "cache_config = ConfigCache(density=True, coefficients=True, mo_energies=True)\n",
    "calc = dxtb.Calculator(numbers, dxtb.GFN1_XTB, **dd)\n",
    "calc.opts.cache = cache_config\n",
    "\n",
    "# compute the energy\n",
    "pos = positions.clone().requires_grad_(True)\n",
    "energy = calc.get_energy(pos, verbosity = 0)\n",
    "density_spinNone = calc.get_density(pos, spin=None)\n",
    "s = overlap(numbers, pos, dxtb.GFN1_XTB)"
   ]
  },
  {
   "cell_type": "code",
   "execution_count": 3,
   "metadata": {},
   "outputs": [
    {
     "name": "stdout",
     "output_type": "stream",
     "text": [
      "------------------------------------------------------------\n",
      "  cycle        total energy    energy error   density error\n",
      "------------------------------------------------------------\n",
      "      1    -0.6739139343013  -8.9186820E-01   3.4717875E-01\n",
      "      2    -0.6775793340317  -3.6653997E-03   1.6832813E-01\n",
      "      3    -0.6785744597801  -9.9512575E-04   1.9516652E-02\n",
      "      4    -0.6785806864440  -6.2266640E-06   1.7840870E-02\n",
      "      5    -0.6786026214695  -2.1935026E-05   7.0178883E-04\n",
      "      6    -0.6786026566184  -3.5148836E-08   3.5195037E-06\n",
      "------------------------------------------------------------\n",
      "\n",
      " total:                                   0.002 sec\n",
      "P.shape = (6, 6)\n",
      "S.shape = (6, 6)\n",
      "e_tbl - e_dxtb = -3.979261398168177e-08, energy_tblite = -0.6786026566183807, energy_dxtb = -0.6786026168257667\n",
      "np.allclose(S, s_perm) (tol 1e-03) = True\n"
     ]
    }
   ],
   "source": [
    "from tblite.interface import Calculator\n",
    "import numpy as np\n",
    "\n",
    "calc_tblite = Calculator(\n",
    "    method = \"GFN1-xTB\",\n",
    "    numbers = numbers.numpy(),\n",
    "    positions = positions.numpy(),\n",
    "    uhf=None\n",
    ")\n",
    "\n",
    "# calc_tblite.add(\"spin-polarization\", 1.0)\n",
    "calc_tblite.set(\"save-integrals\", 1)\n",
    "res = calc_tblite.singlepoint()\n",
    "\n",
    "P = res[\"density-matrix\"]\n",
    "S = res[\"overlap-matrix\"]\n",
    "\n",
    "print(f\"P.shape = {P.shape}\")\n",
    "print(f\"S.shape = {S.shape}\")\n",
    "print(f\"e_tbl - e_dxtb = {res['energy'] - energy.detach().numpy()}, energy_tblite = {res['energy']}, energy_dxtb = {energy}\")\n",
    "\n",
    "perm_map = _get_permutation_map_closedshell_convention(numbers.numpy())\n",
    "\n",
    "p_perm = apply_perm_map(density_spinNone.detach().numpy(), perm_map)\n",
    "s_perm = apply_perm_map(s.detach().numpy(), perm_map)\n",
    "\n",
    "tol = 1e-3\n",
    "# print(f\"np.allclose(P, p_perm) (tol {tol:.0e}) = {np.allclose(P, p_perm, atol=tol)}\")\n",
    "# print(f\"np.allclose(P[0] + P[1], p_perm) (tol {tol:.0e}) = {np.allclose(P[0] + P[1], p_perm, atol=tol)}\")\n",
    "print(f\"np.allclose(S, s_perm) (tol {tol:.0e}) = {np.allclose(S, s_perm, atol=tol)}\")"
   ]
  },
  {
   "cell_type": "code",
   "execution_count": 9,
   "metadata": {},
   "outputs": [
    {
     "data": {
      "text/plain": [
       "array([[-6.04570483e-17,  0.00000000e+00,  6.33466895e-01],\n",
       "       [ 6.04570483e-17,  0.00000000e+00, -6.33466895e-01]])"
      ]
     },
     "execution_count": 9,
     "metadata": {},
     "output_type": "execute_result"
    }
   ],
   "source": [
    "from tblite.library import get_gradient\n",
    "\n",
    "res.get(\"gradient\")"
   ]
  },
  {
   "cell_type": "markdown",
   "metadata": {},
   "source": [
    "# Permutation map"
   ]
  },
  {
   "cell_type": "code",
   "execution_count": 34,
   "metadata": {},
   "outputs": [],
   "source": [
    "perm_map = _get_permutation_map_closedshell_convention(numbers.numpy())\n",
    "\n",
    "s_perm = apply_perm_map(s.detach().numpy(), perm_map)\n",
    "p_perm = apply_perm_map(density_spinNone.detach().numpy(), perm_map)\n",
    "\n",
    "np.set_printoptions(precision=3, suppress=True, linewidth=1000, threshold=np.inf)\n",
    "\n",
    "# print(f\"s_perm: \\n {s_perm}\")\n",
    "# print(f\"S: \\n {S}\")\n",
    "# print()\n",
    "# print(f\"p_perm: \\n {p_perm}\")\n",
    "# print(f\"P: \\n {P}\")"
   ]
  },
  {
   "cell_type": "markdown",
   "metadata": {},
   "source": [
    "# F matrices"
   ]
  },
  {
   "cell_type": "code",
   "execution_count": 35,
   "metadata": {},
   "outputs": [
    {
     "name": "stderr",
     "output_type": "stream",
     "text": [
      "Total Energy: -0.67860261682577 Hartree.\n",
      "Total Energy: -0.67860261682577 Hartree.\n"
     ]
    }
   ],
   "source": [
    "e = calc.get_mo_energies(pos)\n",
    "c = calc.get_coefficients(pos)\n",
    "\n",
    "E = res[\"orbital-energies\"]\n",
    "C = res[\"orbital-coefficients\"]"
   ]
  },
  {
   "cell_type": "code",
   "execution_count": 36,
   "metadata": {},
   "outputs": [
    {
     "name": "stdout",
     "output_type": "stream",
     "text": [
      "np.allclose(F, f_perm) (tol 1e-03) = True\n"
     ]
    }
   ],
   "source": [
    "import numpy.linalg as LA\n",
    "\n",
    "F = S.dot(C).dot(np.diag(E)).dot(LA.inv(C))\n",
    "\n",
    "f = s.detach().numpy().dot(c.detach().numpy()).dot(np.diag(e.detach().numpy())).dot(LA.inv(c.detach().numpy()))\n",
    "f_perm = apply_perm_map(f, perm_map)\n",
    "\n",
    "print(f\"np.allclose(F, f_perm) (tol {tol:.0e}) = {np.allclose(F, f_perm, atol=tol)}\")"
   ]
  },
  {
   "cell_type": "code",
   "execution_count": 37,
   "metadata": {},
   "outputs": [
    {
     "name": "stderr",
     "output_type": "stream",
     "text": [
      "Total Energy: -0.67860261682577 Hartree.\n",
      "Total Energy: -0.67860261682577 Hartree.\n"
     ]
    },
    {
     "name": "stdout",
     "output_type": "stream",
     "text": [
      "e.shape torch.Size([6]), E.shape (6,)\n",
      "c.shape torch.Size([6, 6]), C.shape (6, 6)\n",
      "np.allclose(e, E) (tol 1e-01) = True\n",
      "e: [-0.413 -0.205 -0.164 -0.164 -0.024  0.374]\n",
      "E: [-0.413 -0.205 -0.164 -0.164 -0.024  0.374]\n"
     ]
    }
   ],
   "source": [
    "e = calc.get_mo_energies(pos)\n",
    "c = calc.get_coefficients(pos)\n",
    "\n",
    "E = res[\"orbital-energies\"]\n",
    "C = res[\"orbital-coefficients\"]\n",
    "\n",
    "print(f\"e.shape {e.shape}, E.shape {E.shape}\")\n",
    "print(f\"c.shape {c.shape}, C.shape {C.shape}\")\n",
    "\n",
    "e_perm = apply_perm_map(e.detach().numpy(), perm_map)\n",
    "c_perm = apply_perm_map(c.detach().numpy(), perm_map)\n",
    "\n",
    "tol = 1e-1\n",
    "print(f\"np.allclose(e, E) (tol {tol:.0e}) = {np.allclose(e.detach().numpy(), E, atol=tol)}\")\n",
    "# print(f\"np.allclose(c, C) (tol {tol:.0e}) = {np.allclose(c_perm, C, atol=tol)}\")\n",
    "\n",
    "print(f\"e: {e.detach().numpy()}\")\n",
    "print(f\"E: {E}\")"
   ]
  },
  {
   "cell_type": "code",
   "execution_count": 38,
   "metadata": {},
   "outputs": [
    {
     "name": "stdout",
     "output_type": "stream",
     "text": [
      "c: \n",
      "[[ 0.376 -0.656  0.    -0.    -0.003 -1.061]\n",
      " [ 0.     0.     0.348 -0.937 -0.     0.   ]\n",
      " [-0.    -0.    -0.937 -0.348  0.     0.   ]\n",
      " [ 0.182  0.717 -0.     0.    -0.362 -0.755]\n",
      " [ 0.674  0.204 -0.    -0.     0.237  1.145]\n",
      " [ 0.01   0.131  0.    -0.     0.937 -0.435]]\n",
      "C: \n",
      "[[-0.376  0.656 -0.     0.    -0.003 -1.061]\n",
      " [ 0.     0.     0.     1.     0.     0.   ]\n",
      " [-0.182 -0.717  0.     0.    -0.362 -0.755]\n",
      " [ 0.    -0.    -1.     0.     0.     0.   ]\n",
      " [-0.674 -0.204  0.     0.     0.237  1.145]\n",
      " [-0.01  -0.131  0.     0.     0.937 -0.435]]\n",
      "c_perm: \n",
      "[[ 0.376  0.    -0.    -0.656 -0.003 -1.061]\n",
      " [-0.    -0.937 -0.348 -0.     0.     0.   ]\n",
      " [ 0.182 -0.     0.     0.717 -0.362 -0.755]\n",
      " [ 0.     0.348 -0.937  0.    -0.     0.   ]\n",
      " [ 0.674 -0.    -0.     0.204  0.237  1.145]\n",
      " [ 0.01   0.    -0.     0.131  0.937 -0.435]]\n"
     ]
    }
   ],
   "source": [
    "print(f\"c: \\n{c.detach().numpy()}\")\n",
    "print(f\"C: \\n{C}\")\n",
    "print(f\"c_perm: \\n{c_perm}\")"
   ]
  },
  {
   "cell_type": "code",
   "execution_count": null,
   "metadata": {},
   "outputs": [],
   "source": []
  }
 ],
 "metadata": {
  "kernelspec": {
   "display_name": "orbnet_tblite",
   "language": "python",
   "name": "python3"
  },
  "language_info": {
   "codemirror_mode": {
    "name": "ipython",
    "version": 3
   },
   "file_extension": ".py",
   "mimetype": "text/x-python",
   "name": "python",
   "nbconvert_exporter": "python",
   "pygments_lexer": "ipython3",
   "version": "3.9.19"
  }
 },
 "nbformat": 4,
 "nbformat_minor": 2
}
