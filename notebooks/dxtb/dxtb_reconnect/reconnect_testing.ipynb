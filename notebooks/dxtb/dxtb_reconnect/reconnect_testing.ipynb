{
 "cells": [
  {
   "cell_type": "code",
   "execution_count": 1,
   "metadata": {},
   "outputs": [
    {
     "name": "stdout",
     "output_type": "stream",
     "text": [
      "len(numbers): 176\n",
      "Calc scf mode: 1\n",
      "Calc scp mode: 1\n",
      "SCF Energy  : -326.18651248195351 Hartree.\n",
      "Total Energy: -322.95378788487272 Hartree.\n",
      "Charges.shape: torch.Size([550])\n",
      "\n",
      "\n",
      "Timings\n",
      "-------\n",
      "\n",
      "\u001b[1mObjective                Time (s)        % Total\u001b[0m\n",
      "------------------------------------------------\n",
      "\u001b[1mClassicals                  0.040           5.62\u001b[0m\n",
      " - Repulsion           \u001b[37m     0.026          64.81\u001b[0m\n",
      " - DispersionD3        \u001b[37m     0.013          31.48\u001b[0m\n",
      " - Halogen             \u001b[37m     0.001           3.48\u001b[0m\n",
      "\u001b[1mIntegrals                   0.063           8.78\u001b[0m\n",
      " - Overlap             \u001b[37m     0.060          94.54\u001b[0m\n",
      " - Core Hamiltonian    \u001b[37m     0.003           5.44\u001b[0m\n",
      "\u001b[1mIntor                       0.031           4.27\u001b[0m\n",
      "\u001b[1movlp.norm                   0.020           2.75\u001b[0m\n",
      "\u001b[1mSCF                         0.543          75.67\u001b[0m\n",
      " - Interaction Cache   \u001b[37m     0.001           0.19\u001b[0m\n",
      " - Potential           \u001b[37m     0.467          86.07\u001b[0m\n",
      " - Fock build          \u001b[37m     0.001           0.13\u001b[0m\n",
      " - Diagonalize         \u001b[37m     0.428          78.81\u001b[0m\n",
      " - Density             \u001b[37m     0.013           2.44\u001b[0m\n",
      " - Charges             \u001b[37m     0.003           0.55\u001b[0m\n",
      "------------------------------------------------\n",
      "Sum                    \u001b[37m     0.696          97.08\u001b[0m\n",
      "\u001b[1mTotal                       0.717         100.00\u001b[0m\n"
     ]
    }
   ],
   "source": [
    "import numpy as np\n",
    "import torch\n",
    "import dxtb\n",
    "from dxtb.typing import DD\n",
    "from tqdm import tqdm\n",
    "from tad_mctc.data.molecules import mols as samples\n",
    "from dxtb import Calculator\n",
    "from dxtb.config import ConfigCache\n",
    "\n",
    "dd: DD = {\"dtype\": torch.double, \"device\": torch.device(\"cuda:0\")}\n",
    "cache_config = ConfigCache(enabled=False, density=True, fock=True, overlap=True)\n",
    "opts = {\"verbosity\": 2}\n",
    "\n",
    "# Molecule\n",
    "sample = samples[\"vancoh2\"]\n",
    "numbers = sample[\"numbers\"].to(dd[\"device\"])\n",
    "print(f\"len(numbers): {len(numbers)}\")\n",
    "positions = sample[\"positions\"].clone().to(**dd)\n",
    "charges = torch.tensor(0.0, **dd)\n",
    "\n",
    "pos = positions.clone().requires_grad_(True)\n",
    "\n",
    "# instantiate a dxtb calculator\n",
    "# opts = dict(opts, **{\"scf_mode\": \"reconnect\", \"scp_mode\": \"potential\"})\n",
    "opts = dict(opts, **{\"scf_mode\": \"implicit\", \"scp_mode\": \"charges\"})\n",
    "# opts = dict(opts, **{\"scf_mode\": \"reconnect\"})\n",
    "\n",
    "calc = dxtb.Calculator(numbers, dxtb.GFN1_XTB, opts=opts, **dd, timer=True)\n",
    "dxtb.timer.reset()\n",
    "calc.opts.cache = cache_config\n",
    "\n",
    "print(f\"Calc scf mode: {calc.opts.scf.scf_mode}\")\n",
    "print(f\"Calc scp mode: {calc.opts.scf.scp_mode}\")\n",
    "\n",
    "charges = calc.get_charges(pos, charges, scf_charges_guess=None)\n",
    "print(f\"Charges.shape: {charges.shape}\")\n",
    "dxtb.timer.print(v=1)"
   ]
  },
  {
   "cell_type": "markdown",
   "metadata": {},
   "source": [
    "# Reconnect vs implicit testing"
   ]
  },
  {
   "cell_type": "markdown",
   "metadata": {},
   "source": [
    "### Energy and forces"
   ]
  },
  {
   "cell_type": "code",
   "execution_count": 2,
   "metadata": {},
   "outputs": [
    {
     "name": "stdout",
     "output_type": "stream",
     "text": [
      "SCF Energy  : -326.18651248195357 Hartree.\n",
      "Total Energy: -322.95378788487278 Hartree.\n",
      "SCF Energy  : -326.18651248195357 Hartree.\n",
      "Total Energy: -322.95378788487278 Hartree.\n",
      "\n",
      "\n",
      "Timings\n",
      "-------\n",
      "\n",
      "\u001b[1mObjective                Time (s)        % Total\u001b[0m\n",
      "------------------------------------------------\n",
      "\u001b[1mClassicals                  0.008           0.88\u001b[0m\n",
      " - Repulsion           \u001b[37m     0.001          15.28\u001b[0m\n",
      " - Halogen             \u001b[37m     0.000           3.57\u001b[0m\n",
      " - DispersionD3        \u001b[37m     0.007          80.03\u001b[0m\n",
      "\u001b[1mIntegrals                   0.026           2.79\u001b[0m\n",
      " - Overlap             \u001b[37m     0.022          84.79\u001b[0m\n",
      " - Core Hamiltonian    \u001b[37m     0.004          15.15\u001b[0m\n",
      "\u001b[1mSCF                         0.891          95.97\u001b[0m\n",
      " - Interaction Cache   \u001b[37m     0.001           0.12\u001b[0m\n",
      " - Potential           \u001b[37m     0.848          95.11\u001b[0m\n",
      " - Fock build          \u001b[37m     0.001           0.16\u001b[0m\n",
      " - Diagonalize         \u001b[37m     0.791          88.77\u001b[0m\n",
      " - Density             \u001b[37m     0.025           2.81\u001b[0m\n",
      " - Charges             \u001b[37m     0.006           0.68\u001b[0m\n",
      "------------------------------------------------\n",
      "Sum                    \u001b[37m     0.925          99.64\u001b[0m\n",
      "\u001b[1mTotal                       0.929         100.00\u001b[0m\n"
     ]
    }
   ],
   "source": [
    "import numpy as np\n",
    "import torch\n",
    "import dxtb\n",
    "from dxtb.typing import DD\n",
    "from tqdm import tqdm\n",
    "from tad_mctc.data.molecules import mols as samples\n",
    "from dxtb import Calculator\n",
    "from dxtb.config import ConfigCache\n",
    "\n",
    "# dd: DD = {\"dtype\": torch.double, \"device\": torch.device(\"cpu\")}\n",
    "cache_config = ConfigCache(enabled=False, density=True, fock=True)\n",
    "opts = {\"verbosity\": 2}\n",
    "\n",
    "# Molecule\n",
    "sample = samples[\"vancoh2\"]\n",
    "numbers = sample[\"numbers\"].to(dd[\"device\"])\n",
    "positions = sample[\"positions\"].clone().to(**dd)\n",
    "charges = torch.tensor(0.0, **dd)\n",
    "\n",
    "pos = positions.clone().requires_grad_(True)\n",
    "\n",
    "# instantiate a dxtb calculator\n",
    "opts = dict(opts, **{\"scf_mode\": \"implicit\", \"scp_mode\": \"charges\"})\n",
    "\n",
    "calc = dxtb.Calculator(numbers, dxtb.GFN1_XTB, opts=opts, **dd, timer=True)\n",
    "dxtb.timer.reset()\n",
    "calc.opts.cache = cache_config\n",
    "\n",
    "e_implicit = calc.get_energy(pos, charges)\n",
    "scf_charges = calc.get_charges(pos, charges, scf_charges_guess=None)\n",
    "dxtb.timer.print(v=1)"
   ]
  },
  {
   "cell_type": "code",
   "execution_count": 4,
   "metadata": {},
   "outputs": [
    {
     "name": "stdout",
     "output_type": "stream",
     "text": [
      "SCF Energy  : -326.18651247956814 Hartree.\n",
      "Total Energy: -322.95378788248729 Hartree.\n",
      "\n",
      "\n",
      "Timings\n",
      "-------\n",
      "\n",
      "\u001b[1mObjective                Time (s)        % Total\u001b[0m\n",
      "------------------------------------------------\n",
      "\u001b[1mClassicals                  0.008          12.50\u001b[0m\n",
      " - Halogen             \u001b[37m     0.000           3.33\u001b[0m\n",
      " - DispersionD3        \u001b[37m     0.006          82.87\u001b[0m\n",
      " - Repulsion           \u001b[37m     0.001          12.96\u001b[0m\n",
      "\u001b[1mIntegrals                   0.023          38.45\u001b[0m\n",
      " - Overlap             \u001b[37m     0.020          85.57\u001b[0m\n",
      " - Core Hamiltonian    \u001b[37m     0.003          14.38\u001b[0m\n",
      "\u001b[1mSCF                         0.027          45.08\u001b[0m\n",
      " - Interaction Cache   \u001b[37m     0.001           4.77\u001b[0m\n",
      " - Potential           \u001b[37m     0.023          83.64\u001b[0m\n",
      " - Fock build          \u001b[37m     0.000           0.23\u001b[0m\n",
      " - Diagonalize         \u001b[37m     0.021          77.00\u001b[0m\n",
      " - Density             \u001b[37m     0.001           2.54\u001b[0m\n",
      " - Charges             \u001b[37m     0.000           0.77\u001b[0m\n",
      "------------------------------------------------\n",
      "Sum                    \u001b[37m     0.058          96.04\u001b[0m\n",
      "\u001b[1mTotal                       0.060         100.00\u001b[0m\n"
     ]
    }
   ],
   "source": [
    "opts = dict(opts, **{\"scf_mode\": \"reconnect\", \"scp_mode\": \"charges\"})\n",
    "calc = dxtb.Calculator(numbers, dxtb.GFN1_XTB, opts=opts, **dd, timer=True)\n",
    "dxtb.timer.reset()\n",
    "calc.opts.cache = cache_config\n",
    "\n",
    "e_reconnect = calc.get_energy(pos, charges, scf_charges_guess=scf_charges)\n",
    "dxtb.timer.print(v=1)"
   ]
  },
  {
   "cell_type": "code",
   "execution_count": 6,
   "metadata": {},
   "outputs": [
    {
     "name": "stdout",
     "output_type": "stream",
     "text": [
      "e_implicit: -322.9537878848728, e_reconnect: -322.9537878824873\n",
      "max diff: 3.282661192043068e-05\n"
     ]
    }
   ],
   "source": [
    "f_implicit = torch.autograd.grad(e_implicit, pos, retain_graph=True)[0]\n",
    "f_reconnect = torch.autograd.grad(e_reconnect, pos, retain_graph=True)[0]\n",
    "\n",
    "print(f\"e_implicit: {e_implicit}, e_reconnect: {e_reconnect}\")\n",
    "# print(f\"f_implicit: {f_implicit}\")\n",
    "# print(f\"f_reconnect: {f_reconnect}\")\n",
    "print(f\"max diff: {torch.max(torch.abs(f_implicit - f_reconnect))}\")"
   ]
  },
  {
   "cell_type": "markdown",
   "metadata": {},
   "source": [
    "### Torch.no_grad()"
   ]
  },
  {
   "cell_type": "code",
   "execution_count": null,
   "metadata": {},
   "outputs": [],
   "source": [
    "# Molecule\n",
    "sample = samples[\"vancoh2\"]\n",
    "numbers = sample[\"numbers\"].to(dd[\"device\"])\n",
    "positions = sample[\"positions\"].clone().to(**dd)\n",
    "charges = torch.tensor(0.0, **dd)\n",
    "\n",
    "pos = positions.clone().requires_grad_(True)\n",
    "\n",
    "# instantiate a dxtb calculator\n",
    "opts = dict(opts, **{\"scf_mode\": \"implicit\", \"scp_mode\": \"charges\"})\n",
    "\n",
    "dxtb.timer.reset()\n",
    "calc = dxtb.Calculator(numbers, dxtb.GFN1_XTB, opts=opts, **dd)\n",
    "calc.opts.cache = cache_config\n",
    "\n",
    "with torch.no_grad():\n",
    "    e_implicit = calc.get_energy(pos, charges)\n",
    "    scf_charges = calc.get_charges(pos, charges, scf_charges_guess=None)\n",
    "    dxtb.timer.print(v=1)"
   ]
  },
  {
   "cell_type": "code",
   "execution_count": null,
   "metadata": {},
   "outputs": [],
   "source": [
    "opts = dict(opts, **{\"scf_mode\": \"reconnect\", \"scp_mode\": \"charges\"})\n",
    "\n",
    "pos = positions.clone().requires_grad_(True)\n",
    "dxtb.timer.reset()\n",
    "\n",
    "calc = dxtb.Calculator(numbers, dxtb.GFN1_XTB, opts=opts, **dd)\n",
    "calc.opts.cache = cache_config\n",
    "\n",
    "e_reconnect = calc.get_energy(pos, charges, scf_charges_guess=scf_charges)\n",
    "dxtb.timer.print(v=1)"
   ]
  },
  {
   "cell_type": "code",
   "execution_count": null,
   "metadata": {},
   "outputs": [],
   "source": [
    "# f_implicit = torch.autograd.grad(e_implicit, pos, retain_graph=True)[0]\n",
    "f_reconnect = torch.autograd.grad(e_reconnect, pos, retain_graph=True)[0]\n",
    "\n",
    "print(f\"e_implicit: {e_implicit}, e_reconnect: {e_reconnect}\")\n",
    "# print(f\"f_implicit: {f_implicit}\")\n",
    "# print(f\"f_reconnect: {f_reconnect}\")\n",
    "print(f\"max diff: {torch.max(torch.abs(f_implicit - f_reconnect))}\")"
   ]
  },
  {
   "cell_type": "code",
   "execution_count": null,
   "metadata": {},
   "outputs": [],
   "source": []
  }
 ],
 "metadata": {
  "kernelspec": {
   "display_name": "dxtb",
   "language": "python",
   "name": "python3"
  },
  "language_info": {
   "codemirror_mode": {
    "name": "ipython",
    "version": 3
   },
   "file_extension": ".py",
   "mimetype": "text/x-python",
   "name": "python",
   "nbconvert_exporter": "python",
   "pygments_lexer": "ipython3",
   "version": "3.11.11"
  }
 },
 "nbformat": 4,
 "nbformat_minor": 2
}
