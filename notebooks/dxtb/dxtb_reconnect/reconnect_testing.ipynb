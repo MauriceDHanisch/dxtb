{
 "cells": [
  {
   "cell_type": "code",
   "execution_count": 7,
   "metadata": {},
   "outputs": [
    {
     "name": "stdout",
     "output_type": "stream",
     "text": [
      "Calc scf mode: 1\n",
      "Calc scp mode: 1\n",
      "SCF Energy  : -326.18651248195374 Hartree.\n",
      "Total Energy: -322.95378788487295 Hartree.\n",
      "Charges.shape: torch.Size([550])\n"
     ]
    }
   ],
   "source": [
    "import numpy as np\n",
    "import torch\n",
    "import dxtb\n",
    "from dxtb.typing import DD\n",
    "from tqdm import tqdm\n",
    "from tad_mctc.data.molecules import mols as samples\n",
    "from dxtb import Calculator\n",
    "from dxtb.config import ConfigCache\n",
    "\n",
    "dd: DD = {\"dtype\": torch.double, \"device\": torch.device(\"cpu\")}\n",
    "cache_config = ConfigCache(enabled=False, density=True, fock=True)\n",
    "opts = {\"verbosity\": 2}\n",
    "\n",
    "# Molecule\n",
    "sample = samples[\"vancoh2\"]\n",
    "numbers = sample[\"numbers\"].to(dd[\"device\"])\n",
    "positions = sample[\"positions\"].clone().to(**dd)\n",
    "charges = torch.tensor(0.0, **dd)\n",
    "\n",
    "pos = positions.clone().requires_grad_(True)\n",
    "\n",
    "# instantiate a dxtb calculator\n",
    "# opts = dict(opts, **{\"scf_mode\": \"reconnect\", \"scp_mode\": \"potential\"})\n",
    "opts = dict(opts, **{\"scf_mode\": \"implicit\", \"scp_mode\": \"charges\"})\n",
    "# opts = dict(opts, **{\"scf_mode\": \"reconnect\"})\n",
    "\n",
    "dxtb.timer.reset()\n",
    "calc = dxtb.Calculator(numbers, dxtb.GFN1_XTB, opts=opts, **dd)\n",
    "calc.opts.cache = cache_config\n",
    "\n",
    "print(f\"Calc scf mode: {calc.opts.scf.scf_mode}\")\n",
    "print(f\"Calc scp mode: {calc.opts.scf.scp_mode}\")\n",
    "\n",
    "charges = calc.get_charges(pos, charges, scf_charges_guess=None)\n",
    "print(f\"Charges.shape: {charges.shape}\")\n",
    "dxtb.timer.print(v=1)"
   ]
  },
  {
   "cell_type": "markdown",
   "metadata": {},
   "source": [
    "# Reconnect vs implicit testing"
   ]
  },
  {
   "cell_type": "markdown",
   "metadata": {},
   "source": [
    "### Energy and forces"
   ]
  },
  {
   "cell_type": "code",
   "execution_count": null,
   "metadata": {},
   "outputs": [],
   "source": [
    "import numpy as np\n",
    "import torch\n",
    "import dxtb\n",
    "from dxtb.typing import DD\n",
    "from tqdm import tqdm\n",
    "from tad_mctc.data.molecules import mols as samples\n",
    "from dxtb import Calculator\n",
    "from dxtb.config import ConfigCache\n",
    "\n",
    "dd: DD = {\"dtype\": torch.double, \"device\": torch.device(\"cpu\")}\n",
    "cache_config = ConfigCache(enabled=False, density=True, fock=True)\n",
    "opts = {\"verbosity\": 2}\n",
    "\n",
    "# Molecule\n",
    "sample = samples[\"vancoh2\"]\n",
    "numbers = sample[\"numbers\"].to(dd[\"device\"])\n",
    "positions = sample[\"positions\"].clone().to(**dd)\n",
    "charges = torch.tensor(0.0, **dd)\n",
    "\n",
    "pos = positions.clone().requires_grad_(True)\n",
    "\n",
    "# instantiate a dxtb calculator\n",
    "opts = dict(opts, **{\"scf_mode\": \"implicit\", \"scp_mode\": \"charges\"})\n",
    "\n",
    "dxtb.timer.reset()\n",
    "calc = dxtb.Calculator(numbers, dxtb.GFN1_XTB, opts=opts, **dd)\n",
    "calc.opts.cache = cache_config\n",
    "\n",
    "e_implicit = calc.get_energy(pos, charges)\n",
    "scf_charges = calc.get_charges(pos, charges, scf_charges_guess=None)\n",
    "dxtb.timer.print(v=1)"
   ]
  },
  {
   "cell_type": "code",
   "execution_count": null,
   "metadata": {},
   "outputs": [
    {
     "ename": "AssertionError",
     "evalue": "Reconnect mode requires a charges guess.",
     "output_type": "error",
     "traceback": [
      "\u001b[0;31m---------------------------------------------------------------------------\u001b[0m",
      "\u001b[0;31mAssertionError\u001b[0m                            Traceback (most recent call last)",
      "Cell \u001b[0;32mIn[4], line 6\u001b[0m\n\u001b[1;32m      3\u001b[0m calc \u001b[38;5;241m=\u001b[39m dxtb\u001b[38;5;241m.\u001b[39mCalculator(numbers, dxtb\u001b[38;5;241m.\u001b[39mGFN1_XTB, opts\u001b[38;5;241m=\u001b[39mopts, \u001b[38;5;241m*\u001b[39m\u001b[38;5;241m*\u001b[39mdd)\n\u001b[1;32m      4\u001b[0m calc\u001b[38;5;241m.\u001b[39mopts\u001b[38;5;241m.\u001b[39mcache \u001b[38;5;241m=\u001b[39m cache_config\n\u001b[0;32m----> 6\u001b[0m e_reconnect \u001b[38;5;241m=\u001b[39m \u001b[43mcalc\u001b[49m\u001b[38;5;241;43m.\u001b[39;49m\u001b[43mget_density\u001b[49m\u001b[43m(\u001b[49m\u001b[43mpos\u001b[49m\u001b[43m,\u001b[49m\u001b[43m \u001b[49m\u001b[43mcharges\u001b[49m\u001b[43m)\u001b[49m\n\u001b[1;32m      7\u001b[0m dxtb\u001b[38;5;241m.\u001b[39mtimer\u001b[38;5;241m.\u001b[39mprint(v\u001b[38;5;241m=\u001b[39m\u001b[38;5;241m1\u001b[39m)\n",
      "File \u001b[0;32m~/orbnet_mhd/qcm_ml/libs/dxtb/src/dxtb/_src/calculators/types/abc.py:422\u001b[0m, in \u001b[0;36mGetPropertiesMixin.get_density\u001b[0;34m(self, positions, chrg, spin, **kwargs)\u001b[0m\n\u001b[1;32m    415\u001b[0m \u001b[38;5;28;01mdef\u001b[39;00m \u001b[38;5;21mget_density\u001b[39m(\n\u001b[1;32m    416\u001b[0m     \u001b[38;5;28mself\u001b[39m,\n\u001b[1;32m    417\u001b[0m     positions: Tensor,\n\u001b[0;32m   (...)\u001b[0m\n\u001b[1;32m    420\u001b[0m     \u001b[38;5;241m*\u001b[39m\u001b[38;5;241m*\u001b[39mkwargs: Any,\n\u001b[1;32m    421\u001b[0m ) \u001b[38;5;241m-\u001b[39m\u001b[38;5;241m>\u001b[39m Tensor:\n\u001b[0;32m--> 422\u001b[0m     prop \u001b[38;5;241m=\u001b[39m \u001b[38;5;28;43mself\u001b[39;49m\u001b[38;5;241;43m.\u001b[39;49m\u001b[43mget_property\u001b[49m\u001b[43m(\u001b[49m\n\u001b[1;32m    423\u001b[0m \u001b[43m        \u001b[49m\u001b[38;5;124;43m\"\u001b[39;49m\u001b[38;5;124;43mdensity\u001b[39;49m\u001b[38;5;124;43m\"\u001b[39;49m\u001b[43m,\u001b[49m\u001b[43m \u001b[49m\u001b[43mpositions\u001b[49m\u001b[43m,\u001b[49m\u001b[43m \u001b[49m\u001b[43mchrg\u001b[49m\u001b[38;5;241;43m=\u001b[39;49m\u001b[43mchrg\u001b[49m\u001b[43m,\u001b[49m\u001b[43m \u001b[49m\u001b[43mspin\u001b[49m\u001b[38;5;241;43m=\u001b[39;49m\u001b[43mspin\u001b[49m\u001b[43m,\u001b[49m\u001b[43m \u001b[49m\u001b[38;5;241;43m*\u001b[39;49m\u001b[38;5;241;43m*\u001b[39;49m\u001b[43mkwargs\u001b[49m\n\u001b[1;32m    424\u001b[0m \u001b[43m    \u001b[49m\u001b[43m)\u001b[49m\n\u001b[1;32m    425\u001b[0m     \u001b[38;5;28;01massert\u001b[39;00m \u001b[38;5;28misinstance\u001b[39m(prop, Tensor)\n\u001b[1;32m    426\u001b[0m     \u001b[38;5;28;01mreturn\u001b[39;00m prop\n",
      "File \u001b[0;32m~/orbnet_mhd/qcm_ml/libs/dxtb/src/dxtb/_src/calculators/types/base.py:769\u001b[0m, in \u001b[0;36mBaseCalculator.get_property\u001b[0;34m(self, name, positions, chrg, spin, allow_calculation, return_clone, **kwargs)\u001b[0m\n\u001b[1;32m    762\u001b[0m         \u001b[38;5;28;01mraise\u001b[39;00m DeviceError(\n\u001b[1;32m    763\u001b[0m             \u001b[38;5;124mf\u001b[39m\u001b[38;5;124m\"\u001b[39m\u001b[38;5;124mDevice mismatch: Calculator is on \u001b[39m\u001b[38;5;124m'\u001b[39m\u001b[38;5;132;01m{\u001b[39;00m\u001b[38;5;28mself\u001b[39m\u001b[38;5;241m.\u001b[39mdevice\u001b[38;5;132;01m}\u001b[39;00m\u001b[38;5;124m'\u001b[39m\u001b[38;5;124m, but \u001b[39m\u001b[38;5;124m\"\u001b[39m\n\u001b[1;32m    764\u001b[0m             \u001b[38;5;124mf\u001b[39m\u001b[38;5;124m\"\u001b[39m\u001b[38;5;124mspin is on \u001b[39m\u001b[38;5;124m'\u001b[39m\u001b[38;5;132;01m{\u001b[39;00mspin\u001b[38;5;241m.\u001b[39mdevice\u001b[38;5;132;01m}\u001b[39;00m\u001b[38;5;124m'\u001b[39m\u001b[38;5;124m.\u001b[39m\u001b[38;5;124m\"\u001b[39m\n\u001b[1;32m    765\u001b[0m         )\n\u001b[1;32m    767\u001b[0m \u001b[38;5;66;03m# All the cache checks are handled deep within `calculate`. No need to\u001b[39;00m\n\u001b[1;32m    768\u001b[0m \u001b[38;5;66;03m# do it here as well.\u001b[39;00m\n\u001b[0;32m--> 769\u001b[0m \u001b[38;5;28;43mself\u001b[39;49m\u001b[38;5;241;43m.\u001b[39;49m\u001b[43mcalculate\u001b[49m\u001b[43m(\u001b[49m\u001b[43m[\u001b[49m\u001b[43mname\u001b[49m\u001b[43m]\u001b[49m\u001b[43m,\u001b[49m\u001b[43m \u001b[49m\u001b[43mpositions\u001b[49m\u001b[43m,\u001b[49m\u001b[43m \u001b[49m\u001b[43mchrg\u001b[49m\u001b[38;5;241;43m=\u001b[39;49m\u001b[43mchrg\u001b[49m\u001b[43m,\u001b[49m\u001b[43m \u001b[49m\u001b[43mspin\u001b[49m\u001b[38;5;241;43m=\u001b[39;49m\u001b[43mspin\u001b[49m\u001b[43m,\u001b[49m\u001b[43m \u001b[49m\u001b[38;5;241;43m*\u001b[39;49m\u001b[38;5;241;43m*\u001b[39;49m\u001b[43mkwargs\u001b[49m\u001b[43m)\u001b[49m\n\u001b[1;32m    771\u001b[0m \u001b[38;5;66;03m# For some reason the calculator was not able to do what we want...\u001b[39;00m\n\u001b[1;32m    772\u001b[0m \u001b[38;5;28;01mif\u001b[39;00m name \u001b[38;5;129;01mnot\u001b[39;00m \u001b[38;5;129;01min\u001b[39;00m \u001b[38;5;28mself\u001b[39m\u001b[38;5;241m.\u001b[39mcache:\n",
      "File \u001b[0;32m~/orbnet_mhd/qcm_ml/libs/dxtb/src/dxtb/_src/calculators/base.py:59\u001b[0m, in \u001b[0;36mCalculator.calculate\u001b[0;34m(self, properties, positions, chrg, spin, **kwargs)\u001b[0m\n\u001b[1;32m     51\u001b[0m \u001b[38;5;28;01mdef\u001b[39;00m \u001b[38;5;21mcalculate\u001b[39m(\n\u001b[1;32m     52\u001b[0m     \u001b[38;5;28mself\u001b[39m,\n\u001b[1;32m     53\u001b[0m     properties: \u001b[38;5;28mlist\u001b[39m[\u001b[38;5;28mstr\u001b[39m],\n\u001b[0;32m   (...)\u001b[0m\n\u001b[1;32m     57\u001b[0m     \u001b[38;5;241m*\u001b[39m\u001b[38;5;241m*\u001b[39mkwargs: Any,\n\u001b[1;32m     58\u001b[0m ):\n\u001b[0;32m---> 59\u001b[0m     \u001b[43mAutogradCalculator\u001b[49m\u001b[38;5;241;43m.\u001b[39;49m\u001b[43mcalculate\u001b[49m\u001b[43m(\u001b[49m\n\u001b[1;32m     60\u001b[0m \u001b[43m        \u001b[49m\u001b[38;5;28;43mself\u001b[39;49m\u001b[43m,\u001b[49m\u001b[43m \u001b[49m\u001b[43mproperties\u001b[49m\u001b[43m,\u001b[49m\u001b[43m \u001b[49m\u001b[43mpositions\u001b[49m\u001b[43m,\u001b[49m\u001b[43m \u001b[49m\u001b[43mchrg\u001b[49m\u001b[43m,\u001b[49m\u001b[43m \u001b[49m\u001b[43mspin\u001b[49m\u001b[43m,\u001b[49m\u001b[43m \u001b[49m\u001b[38;5;241;43m*\u001b[39;49m\u001b[38;5;241;43m*\u001b[39;49m\u001b[43mkwargs\u001b[49m\n\u001b[1;32m     61\u001b[0m \u001b[43m    \u001b[49m\u001b[43m)\u001b[49m\n",
      "File \u001b[0;32m~/orbnet_mhd/qcm_ml/libs/dxtb/src/dxtb/_src/calculators/types/autograd.py:1042\u001b[0m, in \u001b[0;36mAutogradCalculator.calculate\u001b[0;34m(self, properties, positions, chrg, spin, **kwargs)\u001b[0m\n\u001b[1;32m   1039\u001b[0m props\u001b[38;5;241m.\u001b[39mremove(\u001b[38;5;124m\"\u001b[39m\u001b[38;5;124mbond_orders\u001b[39m\u001b[38;5;124m\"\u001b[39m)\n\u001b[1;32m   1041\u001b[0m \u001b[38;5;28;01mif\u001b[39;00m \u001b[38;5;28mset\u001b[39m(props) \u001b[38;5;241m&\u001b[39m \u001b[38;5;28mset\u001b[39m(properties):\n\u001b[0;32m-> 1042\u001b[0m     \u001b[38;5;28;43mself\u001b[39;49m\u001b[38;5;241;43m.\u001b[39;49m\u001b[43menergy\u001b[49m\u001b[43m(\u001b[49m\u001b[43mpositions\u001b[49m\u001b[43m,\u001b[49m\u001b[43m \u001b[49m\u001b[43mchrg\u001b[49m\u001b[43m,\u001b[49m\u001b[43m \u001b[49m\u001b[43mspin\u001b[49m\u001b[43m,\u001b[49m\u001b[43m \u001b[49m\u001b[38;5;241;43m*\u001b[39;49m\u001b[38;5;241;43m*\u001b[39;49m\u001b[43mkwargs\u001b[49m\u001b[43m)\u001b[49m\n\u001b[1;32m   1044\u001b[0m \u001b[38;5;28;01mif\u001b[39;00m \u001b[38;5;124m\"\u001b[39m\u001b[38;5;124mforces\u001b[39m\u001b[38;5;124m\"\u001b[39m \u001b[38;5;129;01min\u001b[39;00m properties:\n\u001b[1;32m   1045\u001b[0m     \u001b[38;5;28mself\u001b[39m\u001b[38;5;241m.\u001b[39mforces(positions, chrg, spin, \u001b[38;5;241m*\u001b[39m\u001b[38;5;241m*\u001b[39mkwargs)\n",
      "File \u001b[0;32m~/orbnet_mhd/qcm_ml/libs/dxtb/src/dxtb/_src/calculators/types/decorators.py:259\u001b[0m, in \u001b[0;36mcache.<locals>.wrapper\u001b[0;34m(self, *args, **kwargs)\u001b[0m\n\u001b[1;32m    256\u001b[0m                 \u001b[38;5;28;01mreturn\u001b[39;00m \u001b[38;5;28mself\u001b[39m\u001b[38;5;241m.\u001b[39mcache[key]\n\u001b[1;32m    258\u001b[0m \u001b[38;5;66;03m# Execute the function and store the result in the cache\u001b[39;00m\n\u001b[0;32m--> 259\u001b[0m result \u001b[38;5;241m=\u001b[39m \u001b[43mfunc\u001b[49m\u001b[43m(\u001b[49m\u001b[38;5;28;43mself\u001b[39;49m\u001b[43m,\u001b[49m\u001b[43m \u001b[49m\u001b[38;5;241;43m*\u001b[39;49m\u001b[43margs\u001b[49m\u001b[43m,\u001b[49m\u001b[43m \u001b[49m\u001b[38;5;241;43m*\u001b[39;49m\u001b[38;5;241;43m*\u001b[39;49m\u001b[43mkwargs\u001b[49m\u001b[43m)\u001b[49m\n\u001b[1;32m    260\u001b[0m \u001b[38;5;28mself\u001b[39m\u001b[38;5;241m.\u001b[39mcache[key] \u001b[38;5;241m=\u001b[39m result\n\u001b[1;32m    262\u001b[0m \u001b[38;5;66;03m# Also store the \"hashkey\"\u001b[39;00m\n",
      "File \u001b[0;32m~/orbnet_mhd/qcm_ml/libs/dxtb/src/dxtb/_src/calculators/types/energy.py:391\u001b[0m, in \u001b[0;36mEnergyCalculator.energy\u001b[0;34m(self, positions, chrg, spin, **kwargs)\u001b[0m\n\u001b[1;32m    366\u001b[0m \u001b[38;5;129m@cdec\u001b[39m\u001b[38;5;241m.\u001b[39mcache\n\u001b[1;32m    367\u001b[0m \u001b[38;5;28;01mdef\u001b[39;00m \u001b[38;5;21menergy\u001b[39m(\n\u001b[1;32m    368\u001b[0m     \u001b[38;5;28mself\u001b[39m,\n\u001b[0;32m   (...)\u001b[0m\n\u001b[1;32m    372\u001b[0m     \u001b[38;5;241m*\u001b[39m\u001b[38;5;241m*\u001b[39mkwargs: Any,\n\u001b[1;32m    373\u001b[0m ) \u001b[38;5;241m-\u001b[39m\u001b[38;5;241m>\u001b[39m Tensor:\n\u001b[1;32m    374\u001b[0m \u001b[38;5;250m    \u001b[39m\u001b[38;5;124;03m\"\"\"\u001b[39;00m\n\u001b[1;32m    375\u001b[0m \u001b[38;5;124;03m    Calculate the total energy :math:`E` of the system.\u001b[39;00m\n\u001b[1;32m    376\u001b[0m \n\u001b[0;32m   (...)\u001b[0m\n\u001b[1;32m    389\u001b[0m \u001b[38;5;124;03m        Total energy of the system (scalar value).\u001b[39;00m\n\u001b[1;32m    390\u001b[0m \u001b[38;5;124;03m    \"\"\"\u001b[39;00m\n\u001b[0;32m--> 391\u001b[0m     \u001b[38;5;28;43mself\u001b[39;49m\u001b[38;5;241;43m.\u001b[39;49m\u001b[43msinglepoint\u001b[49m\u001b[43m(\u001b[49m\u001b[43mpositions\u001b[49m\u001b[43m,\u001b[49m\u001b[43m \u001b[49m\u001b[43mchrg\u001b[49m\u001b[43m,\u001b[49m\u001b[43m \u001b[49m\u001b[43mspin\u001b[49m\u001b[43m,\u001b[49m\u001b[43m \u001b[49m\u001b[38;5;241;43m*\u001b[39;49m\u001b[38;5;241;43m*\u001b[39;49m\u001b[43mkwargs\u001b[49m\u001b[43m)\u001b[49m\n\u001b[1;32m    392\u001b[0m     e \u001b[38;5;241m=\u001b[39m \u001b[38;5;28mself\u001b[39m\u001b[38;5;241m.\u001b[39mcache[\u001b[38;5;124m\"\u001b[39m\u001b[38;5;124menergy\u001b[39m\u001b[38;5;124m\"\u001b[39m]\n\u001b[1;32m    394\u001b[0m     \u001b[38;5;28;01mif\u001b[39;00m e \u001b[38;5;129;01mis\u001b[39;00m \u001b[38;5;28;01mNone\u001b[39;00m:\n",
      "File \u001b[0;32m~/orbnet_mhd/qcm_ml/libs/dxtb/src/dxtb/_src/calculators/types/energy.py:254\u001b[0m, in \u001b[0;36mEnergyCalculator.singlepoint\u001b[0;34m(self, positions, chrg, spin, scf_charges_guess, **kwargs)\u001b[0m\n\u001b[1;32m    251\u001b[0m \u001b[38;5;66;03m# SCF\u001b[39;00m\n\u001b[1;32m    252\u001b[0m OutputHandler\u001b[38;5;241m.\u001b[39mwrite_stdout(\u001b[38;5;124m\"\u001b[39m\u001b[38;5;130;01m\\n\u001b[39;00m\u001b[38;5;124mStarting SCF Iterations...\u001b[39m\u001b[38;5;124m\"\u001b[39m, v\u001b[38;5;241m=\u001b[39m\u001b[38;5;241m3\u001b[39m)\n\u001b[0;32m--> 254\u001b[0m scf_results \u001b[38;5;241m=\u001b[39m \u001b[43mscf\u001b[49m\u001b[38;5;241;43m.\u001b[39;49m\u001b[43msolve\u001b[49m\u001b[43m(\u001b[49m\n\u001b[1;32m    255\u001b[0m \u001b[43m    \u001b[49m\u001b[38;5;28;43mself\u001b[39;49m\u001b[38;5;241;43m.\u001b[39;49m\u001b[43mnumbers\u001b[49m\u001b[43m,\u001b[49m\n\u001b[1;32m    256\u001b[0m \u001b[43m    \u001b[49m\u001b[43mpositions\u001b[49m\u001b[43m,\u001b[49m\n\u001b[1;32m    257\u001b[0m \u001b[43m    \u001b[49m\u001b[43mchrg\u001b[49m\u001b[43m,\u001b[49m\n\u001b[1;32m    258\u001b[0m \u001b[43m    \u001b[49m\u001b[43mspin\u001b[49m\u001b[43m,\u001b[49m\n\u001b[1;32m    259\u001b[0m \u001b[43m    \u001b[49m\u001b[38;5;28;43mself\u001b[39;49m\u001b[38;5;241;43m.\u001b[39;49m\u001b[43minteractions\u001b[49m\u001b[43m,\u001b[49m\n\u001b[1;32m    260\u001b[0m \u001b[43m    \u001b[49m\u001b[43micaches\u001b[49m\u001b[43m,\u001b[49m\n\u001b[1;32m    261\u001b[0m \u001b[43m    \u001b[49m\u001b[38;5;28;43mself\u001b[39;49m\u001b[38;5;241;43m.\u001b[39;49m\u001b[43mihelp\u001b[49m\u001b[43m,\u001b[49m\n\u001b[1;32m    262\u001b[0m \u001b[43m    \u001b[49m\u001b[38;5;28;43mself\u001b[39;49m\u001b[38;5;241;43m.\u001b[39;49m\u001b[43mopts\u001b[49m\u001b[38;5;241;43m.\u001b[39;49m\u001b[43mscf\u001b[49m\u001b[43m,\u001b[49m\n\u001b[1;32m    263\u001b[0m \u001b[43m    \u001b[49m\u001b[43mintmats\u001b[49m\u001b[43m,\u001b[49m\n\u001b[1;32m    264\u001b[0m \u001b[43m    \u001b[49m\u001b[38;5;28;43mself\u001b[39;49m\u001b[38;5;241;43m.\u001b[39;49m\u001b[43mintegrals\u001b[49m\u001b[38;5;241;43m.\u001b[39;49m\u001b[43mhcore\u001b[49m\u001b[38;5;241;43m.\u001b[39;49m\u001b[43mrefocc\u001b[49m\u001b[43m,\u001b[49m\n\u001b[1;32m    265\u001b[0m \u001b[43m    \u001b[49m\u001b[43mscf_charges_guess\u001b[49m\u001b[43m,\u001b[49m\n\u001b[1;32m    266\u001b[0m \u001b[43m\u001b[49m\u001b[43m)\u001b[49m\n\u001b[1;32m    268\u001b[0m timer\u001b[38;5;241m.\u001b[39mstop(\u001b[38;5;124m\"\u001b[39m\u001b[38;5;124mSCF\u001b[39m\u001b[38;5;124m\"\u001b[39m)\n\u001b[1;32m    269\u001b[0m timer\u001b[38;5;241m.\u001b[39mcuda_sync \u001b[38;5;241m=\u001b[39m old_cuda_sync\n",
      "File \u001b[0;32m~/orbnet_mhd/qcm_ml/libs/dxtb/src/dxtb/_src/scf/iterator.py:99\u001b[0m, in \u001b[0;36msolve\u001b[0;34m(numbers, positions, chrg, spin, interactions, cache, ihelp, config, integrals, refocc, charges_guess, *args, **kwargs)\u001b[0m\n\u001b[1;32m     96\u001b[0m n0, occupation \u001b[38;5;241m=\u001b[39m get_refocc(refocc, chrg, spin, ihelp)\n\u001b[1;32m     98\u001b[0m \u001b[38;5;28;01mif\u001b[39;00m config\u001b[38;5;241m.\u001b[39mscf_mode \u001b[38;5;241m==\u001b[39m labels\u001b[38;5;241m.\u001b[39mSCF_MODE_RECONNECT:\n\u001b[0;32m---> 99\u001b[0m     \u001b[38;5;28;01massert\u001b[39;00m charges_guess \u001b[38;5;129;01mis\u001b[39;00m \u001b[38;5;129;01mnot\u001b[39;00m \u001b[38;5;28;01mNone\u001b[39;00m, \u001b[38;5;124m\"\u001b[39m\u001b[38;5;124mReconnect mode requires a charges guess.\u001b[39m\u001b[38;5;124m\"\u001b[39m\n\u001b[1;32m    100\u001b[0m     charges \u001b[38;5;241m=\u001b[39m charges_guess\n\u001b[1;32m    101\u001b[0m \u001b[38;5;28;01melse\u001b[39;00m:\n",
      "\u001b[0;31mAssertionError\u001b[0m: Reconnect mode requires a charges guess."
     ]
    }
   ],
   "source": [
    "opts = dict(opts, **{\"scf_mode\": \"reconnect\", \"scp_mode\": \"charges\"})\n",
    "dxtb.timer.reset()\n",
    "calc = dxtb.Calculator(numbers, dxtb.GFN1_XTB, opts=opts, **dd)\n",
    "calc.opts.cache = cache_config\n",
    "\n",
    "e_reconnect = calc.get_density(pos, charges, scf_charges_guess=scf_charges)\n",
    "dxtb.timer.print(v=1)"
   ]
  },
  {
   "cell_type": "code",
   "execution_count": 4,
   "metadata": {},
   "outputs": [
    {
     "name": "stdout",
     "output_type": "stream",
     "text": [
      "e_implicit: -322.9537656683717, e_reconnect: -322.95376567278356\n",
      "max diff: 3.2826345703146353e-05\n"
     ]
    }
   ],
   "source": [
    "f_implicit = torch.autograd.grad(e_implicit, pos, retain_graph=True)[0]\n",
    "f_reconnect = torch.autograd.grad(e_reconnect, pos, retain_graph=True)[0]\n",
    "\n",
    "print(f\"e_implicit: {e_implicit}, e_reconnect: {e_reconnect}\")\n",
    "# print(f\"f_implicit: {f_implicit}\")\n",
    "# print(f\"f_reconnect: {f_reconnect}\")\n",
    "print(f\"max diff: {torch.max(torch.abs(f_implicit - f_reconnect))}\")"
   ]
  },
  {
   "cell_type": "markdown",
   "metadata": {},
   "source": [
    "### Torch.no_grad()"
   ]
  },
  {
   "cell_type": "code",
   "execution_count": 5,
   "metadata": {},
   "outputs": [
    {
     "name": "stderr",
     "output_type": "stream",
     "text": [
      "SCF Energy  : -326.18649026545251 Hartree.\n",
      "Total Energy: -322.95376566837172 Hartree.\n",
      "SCF Energy  : -326.18649026545251 Hartree.\n",
      "Total Energy: -322.95376566837172 Hartree.\n",
      "\n",
      "\n",
      "Timings\n",
      "-------\n",
      "\n",
      "\u001b[1mObjective                Time (s)        % Total\u001b[0m\n",
      "------------------------------------------------\n",
      "\u001b[1mCalculator                  0.007           0.68\u001b[0m\n",
      "\u001b[1mClassicals                  0.021           1.92\u001b[0m\n",
      " - DispersionD3        \u001b[37m     0.018          87.45\u001b[0m\n",
      " - Halogen             \u001b[37m     0.000           1.01\u001b[0m\n",
      " - Repulsion           \u001b[37m     0.002          10.98\u001b[0m\n",
      "\u001b[1mIntegrals                   0.042           3.86\u001b[0m\n",
      " - Overlap             \u001b[37m     0.031          75.30\u001b[0m\n",
      " - Core Hamiltonian    \u001b[37m     0.010          24.51\u001b[0m\n",
      "\u001b[1mSCF                         1.003          93.07\u001b[0m\n",
      " - Interaction Cache   \u001b[37m     0.003           0.28\u001b[0m\n",
      " - Potential           \u001b[37m     0.966          96.24\u001b[0m\n",
      " - Fock build          \u001b[37m     0.030           2.95\u001b[0m\n",
      " - Diagonalize         \u001b[37m     0.750          74.72\u001b[0m\n",
      " - Density             \u001b[37m     0.075           7.52\u001b[0m\n",
      " - Charges             \u001b[37m     0.089           8.89\u001b[0m\n",
      "------------------------------------------------\n",
      "Sum                    \u001b[37m     1.073          99.53\u001b[0m\n",
      "\u001b[1mTotal                       1.078         100.00\u001b[0m\n"
     ]
    }
   ],
   "source": [
    "# Molecule\n",
    "sample = samples[\"vancoh2\"]\n",
    "numbers = sample[\"numbers\"].to(dd[\"device\"])\n",
    "positions = sample[\"positions\"].clone().to(**dd)\n",
    "charges = torch.tensor(0.0, **dd)\n",
    "\n",
    "pos = positions.clone().requires_grad_(True)\n",
    "\n",
    "# instantiate a dxtb calculator\n",
    "opts = dict(opts, **{\"scf_mode\": \"implicit\", \"scp_mode\": \"charges\"})\n",
    "\n",
    "dxtb.timer.reset()\n",
    "calc = dxtb.Calculator(numbers, dxtb.GFN1_XTB, opts=opts, **dd)\n",
    "calc.opts.cache = cache_config\n",
    "\n",
    "with torch.no_grad():\n",
    "    e_implicit = calc.get_energy(pos, charges)\n",
    "    scf_charges = calc.get_charges(pos, charges, scf_charges_guess=None)\n",
    "    dxtb.timer.print(v=1)"
   ]
  },
  {
   "cell_type": "code",
   "execution_count": 6,
   "metadata": {},
   "outputs": [
    {
     "name": "stderr",
     "output_type": "stream",
     "text": [
      "SCF Energy  : -326.18649026986435 Hartree.\n",
      "Total Energy: -322.95376567278356 Hartree.\n",
      "\n",
      "\n",
      "Timings\n",
      "-------\n",
      "\n",
      "\u001b[1mObjective                Time (s)        % Total\u001b[0m\n",
      "------------------------------------------------\n",
      "\u001b[1mCalculator                  0.009           9.15\u001b[0m\n",
      "\u001b[1mClassicals                  0.012          12.77\u001b[0m\n",
      " - DispersionD3        \u001b[37m     0.010          85.31\u001b[0m\n",
      " - Repulsion           \u001b[37m     0.002          13.19\u001b[0m\n",
      " - Halogen             \u001b[37m     0.000           0.90\u001b[0m\n",
      "\u001b[1mIntegrals                   0.028          30.06\u001b[0m\n",
      " - Overlap             \u001b[37m     0.021          75.83\u001b[0m\n",
      " - Core Hamiltonian    \u001b[37m     0.007          24.03\u001b[0m\n",
      "\u001b[1mSCF                         0.041          43.65\u001b[0m\n",
      " - Interaction Cache   \u001b[37m     0.003           6.85\u001b[0m\n",
      " - Potential           \u001b[37m     0.035          85.18\u001b[0m\n",
      " - Fock build          \u001b[37m     0.002           3.83\u001b[0m\n",
      " - Diagonalize         \u001b[37m     0.027          65.57\u001b[0m\n",
      " - Density             \u001b[37m     0.003           6.22\u001b[0m\n",
      " - Charges             \u001b[37m     0.003           7.52\u001b[0m\n",
      "------------------------------------------------\n",
      "Sum                    \u001b[37m     0.090          95.63\u001b[0m\n",
      "\u001b[1mTotal                       0.094         100.00\u001b[0m\n"
     ]
    }
   ],
   "source": [
    "opts = dict(opts, **{\"scf_mode\": \"reconnect\", \"scp_mode\": \"charges\"})\n",
    "\n",
    "pos = positions.clone().requires_grad_(True)\n",
    "dxtb.timer.reset()\n",
    "\n",
    "calc = dxtb.Calculator(numbers, dxtb.GFN1_XTB, opts=opts, **dd)\n",
    "calc.opts.cache = cache_config\n",
    "\n",
    "e_reconnect = calc.get_energy(pos, charges, scf_charges_guess=scf_charges)\n",
    "dxtb.timer.print(v=1)"
   ]
  },
  {
   "cell_type": "code",
   "execution_count": 7,
   "metadata": {},
   "outputs": [
    {
     "name": "stdout",
     "output_type": "stream",
     "text": [
      "e_implicit: -322.9537656683717, e_reconnect: -322.95376567278356\n",
      "max diff: 2.1025343133196372e-09\n"
     ]
    }
   ],
   "source": [
    "# f_implicit = torch.autograd.grad(e_implicit, pos, retain_graph=True)[0]\n",
    "f_reconnect = torch.autograd.grad(e_reconnect, pos, retain_graph=True)[0]\n",
    "\n",
    "print(f\"e_implicit: {e_implicit}, e_reconnect: {e_reconnect}\")\n",
    "# print(f\"f_implicit: {f_implicit}\")\n",
    "# print(f\"f_reconnect: {f_reconnect}\")\n",
    "print(f\"max diff: {torch.max(torch.abs(f_implicit - f_reconnect))}\")"
   ]
  },
  {
   "cell_type": "code",
   "execution_count": null,
   "metadata": {},
   "outputs": [],
   "source": []
  }
 ],
 "metadata": {
  "kernelspec": {
   "display_name": "dxtb",
   "language": "python",
   "name": "python3"
  },
  "language_info": {
   "codemirror_mode": {
    "name": "ipython",
    "version": 3
   },
   "file_extension": ".py",
   "mimetype": "text/x-python",
   "name": "python",
   "nbconvert_exporter": "python",
   "pygments_lexer": "ipython3",
   "version": "3.11.11"
  }
 },
 "nbformat": 4,
 "nbformat_minor": 2
}
