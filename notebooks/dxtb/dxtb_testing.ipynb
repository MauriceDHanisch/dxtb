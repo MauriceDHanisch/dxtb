{
 "cells": [
  {
   "cell_type": "code",
   "execution_count": 1,
   "metadata": {},
   "outputs": [],
   "source": [
    "import torch\n",
    "import dxtb\n",
    "from dxtb.typing import DD\n",
    "\n",
    "dd: DD = {\"dtype\": torch.double, \"device\": torch.device(\"cpu\")}\n",
    "\n",
    "# LiH\n",
    "numbers = torch.tensor([3, 1], device=dd[\"device\"])\n",
    "positions = torch.tensor([[0.0, 0.0, 0.0], [0.0, 0.0, 1.5]], **dd) # ** to use dd as kwargs \n",
    "\n",
    "# instantiate a calculator\n",
    "calc = dxtb.calculators.GFN1Calculator(numbers, **dd) # TODO: why datatype and device? \n",
    "\n",
    "# Worse (for argument checking): \n",
    "calc = dxtb.Calculator(numbers, dxtb.GFN1_XTB, **dd)"
   ]
  },
  {
   "cell_type": "code",
   "execution_count": 2,
   "metadata": {},
   "outputs": [
    {
     "name": "stderr",
     "output_type": "stream",
     "text": [
      "Total Energy: -0.67860261682577 Hartree.\n"
     ]
    }
   ],
   "source": [
    "# compute the energy\n",
    "pos = positions.clone().requires_grad_(True)\n",
    "energy = calc.get_energy(pos)"
   ]
  },
  {
   "cell_type": "markdown",
   "metadata": {},
   "source": [
    "# Set verbosity to 0"
   ]
  },
  {
   "cell_type": "code",
   "execution_count": 10,
   "metadata": {},
   "outputs": [
    {
     "name": "stderr",
     "output_type": "stream",
     "text": [
      "Total Energy: -0.67860261682577 Hartree.\n",
      "SCF Energy  : -0.89655688330811 Hartree.\n",
      "Total Energy: -0.67860261682577 Hartree.\n",
      "Singlepoint \n",
      " - Classicals        ... done\n",
      " - Overlap           ... done\n",
      " - Core Hamiltonian  ... done\n",
      " - Interaction Cache ... done\n",
      "\n",
      "Starting SCF Iterations...\n",
      "\n",
      "iter  Energy                   Delta E         Delta Pnorm     Delta q        \n",
      "-----------------------------------------------------------------------------\n",
      "  0   -8.77560617962661E-01    0.000000E+00    0.000000E+00    0.000000E+00\n",
      "  1   -8.95077734935744E-01    1.751712E-02    2.772240E-01    2.663464E-01\n",
      "  2   -8.96548332460670E-01    1.470598E-03    9.872227E-02    9.003866E-02\n",
      "  3   -8.96556230914213E-01    7.898454E-06    5.901386E-03    5.292786E-03\n",
      "  4   -8.96556871688813E-01    6.407746E-07    1.956400E-03    1.756005E-03\n",
      "  5   -8.96556883308107E-01    1.161929E-08    2.858123E-04    2.564900E-04\n",
      "  6   -8.96556883341053E-01    3.294598E-11    1.527107E-05    1.370057E-05\n",
      "-----------------------------------------------------------------------------\n",
      "\n",
      "SCF finished in 6 iterations.\n",
      "SCF Energy  : -0.89655688330811 Hartree.\n",
      "Total Energy: -0.67860261682577 Hartree.\n",
      "Singlepoint \n",
      " - Classicals        ... done\n",
      " - Overlap           ... done\n",
      " - Core Hamiltonian  ... done\n",
      " - Interaction Cache ... done\n",
      "\n",
      "Starting SCF Iterations...\n",
      "\n",
      "iter  Energy                   Delta E         Delta Pnorm     Delta q        \n",
      "-----------------------------------------------------------------------------\n",
      "  0   -8.77560617962661E-01    0.000000E+00    0.000000E+00    0.000000E+00\n"
     ]
    },
    {
     "name": "stderr",
     "output_type": "stream",
     "text": [
      "  1   -8.95077734935744E-01    1.751712E-02    2.772240E-01    2.663464E-01\n",
      "  2   -8.96548332460670E-01    1.470598E-03    9.872227E-02    9.003866E-02\n",
      "  3   -8.96556230914213E-01    7.898454E-06    5.901386E-03    5.292786E-03\n",
      "  4   -8.96556871688813E-01    6.407746E-07    1.956400E-03    1.756005E-03\n",
      "  5   -8.96556883308107E-01    1.161929E-08    2.858123E-04    2.564900E-04\n",
      "  6   -8.96556883341053E-01    3.294598E-11    1.527107E-05    1.370057E-05\n",
      "-----------------------------------------------------------------------------\n",
      "\n",
      "SCF finished in 6 iterations.\n",
      "SCF Energy  : -0.89655688330811 Hartree.\n",
      "Total Energy: -0.67860261682577 Hartree.\n",
      "Singlepoint \n",
      " - Classicals        ... done\n",
      " - Overlap           ... done\n",
      " - Core Hamiltonian  ... done\n",
      " - Interaction Cache ... done\n",
      "\n",
      "Starting SCF Iterations...\n",
      "\n",
      "iter  Energy                   Delta E         Delta Pnorm     Delta q        \n",
      "-----------------------------------------------------------------------------\n",
      "  0   -8.77560617962661E-01    0.000000E+00    0.000000E+00    0.000000E+00\n",
      "  1   -8.95077734935744E-01    1.751712E-02    2.772240E-01    2.663464E-01\n",
      "  2   -8.96548332460670E-01    1.470598E-03    9.872227E-02    9.003866E-02\n",
      "  3   -8.96556230914213E-01    7.898454E-06    5.901386E-03    5.292786E-03\n",
      "  4   -8.96556871688813E-01    6.407746E-07    1.956400E-03    1.756005E-03\n",
      "  5   -8.96556883308107E-01    1.161929E-08    2.858123E-04    2.564900E-04\n",
      "  6   -8.96556883341053E-01    3.294598E-11    1.527107E-05    1.370057E-05\n",
      "-----------------------------------------------------------------------------\n",
      "\n",
      "SCF finished in 6 iterations.\n",
      "SCF Energy  : -0.89655688330811 Hartree.\n",
      "Total Energy: -0.67860261682577 Hartree.\n"
     ]
    }
   ],
   "source": [
    "from dxtb import OutputHandler\n",
    "\n",
    "OutputHandler.verbosity = 0\n",
    "\n",
    "pos = positions.clone().requires_grad_(True)\n",
    "energy = calc.get_energy(pos)\n",
    "\n",
    "for verbosity in range(6):\n",
    "    OutputHandler.verbosity = verbosity\n",
    "    pos = positions.clone().requires_grad_(True)\n",
    "    energy = calc.get_energy(pos)\n",
    "\n",
    "OutputHandler.verbosity = 0"
   ]
  },
  {
   "cell_type": "markdown",
   "metadata": {},
   "source": [
    "# Set the spin"
   ]
  },
  {
   "cell_type": "code",
   "execution_count": 3,
   "metadata": {},
   "outputs": [
    {
     "name": "stderr",
     "output_type": "stream",
     "text": [
      "Total Energy: -0.44665978341296 Hartree.\n"
     ]
    }
   ],
   "source": [
    "calc = dxtb.Calculator(numbers, dxtb.GFN1_XTB, **dd)\n",
    "\n",
    "pos = positions.clone().requires_grad_(True)\n",
    "energy = calc.get_energy(pos, spin=2)\n"
   ]
  },
  {
   "cell_type": "markdown",
   "metadata": {},
   "source": [
    "# Quantities"
   ]
  },
  {
   "cell_type": "code",
   "execution_count": 6,
   "metadata": {},
   "outputs": [
    {
     "name": "stdout",
     "output_type": "stream",
     "text": [
      "\n",
      "shape of density: torch.Size([6, 6]) \n",
      "shape of coefficients: torch.Size([6, 6]) \n",
      "shape of energies: torch.Size([6])\n",
      "\n",
      "energies: tensor([-0.4132, -0.2047, -0.1637, -0.1637, -0.0240,  0.3737],\n",
      "       dtype=torch.float64, grad_fn=<AliasBackward0>)\n",
      "\n",
      "density: tensor([[ 2.8233e-01,  4.1713e-17, -4.1713e-17,  1.3667e-01,  5.0646e-01,\n",
      "          7.6675e-03],\n",
      "        [ 4.1713e-17,  6.1630e-33, -6.1630e-33,  2.0193e-17,  7.4827e-17,\n",
      "          1.1328e-18],\n",
      "        [-4.1713e-17, -6.1630e-33,  6.1630e-33, -2.0193e-17, -7.4827e-17,\n",
      "         -1.1328e-18],\n",
      "        [ 1.3667e-01,  2.0193e-17, -2.0193e-17,  6.6160e-02,  2.4517e-01,\n",
      "          3.7117e-03],\n",
      "        [ 5.0646e-01,  7.4827e-17, -7.4827e-17,  2.4517e-01,  9.0851e-01,\n",
      "          1.3754e-02],\n",
      "        [ 7.6675e-03,  1.1328e-18, -1.1328e-18,  3.7117e-03,  1.3754e-02,\n",
      "          2.0823e-04]], dtype=torch.float64, grad_fn=<ReshapeAliasBackward0>)\n",
      "\n",
      "coefficients: tensor([[ 3.7572e-01, -6.5584e-01,  5.5030e-16, -1.9050e-16, -2.7768e-03,\n",
      "         -1.0612e+00],\n",
      "        [ 5.5511e-17,  6.1062e-16,  3.4827e-01, -9.3739e-01, -2.2204e-16,\n",
      "          1.1102e-16],\n",
      "        [-5.5511e-17, -5.5511e-16, -9.3739e-01, -3.4827e-01,  0.0000e+00,\n",
      "          0.0000e+00],\n",
      "        [ 1.8188e-01,  7.1741e-01, -5.5564e-16,  3.5231e-16, -3.6225e-01,\n",
      "         -7.5483e-01],\n",
      "        [ 6.7399e-01,  2.0449e-01, -1.8667e-16, -3.8039e-17,  2.3734e-01,\n",
      "          1.1445e+00],\n",
      "        [ 1.0204e-02,  1.3112e-01,  3.1334e-16, -8.6571e-18,  9.3651e-01,\n",
      "         -4.3525e-01]], dtype=torch.float64, grad_fn=<MmBackward0>)\n"
     ]
    }
   ],
   "source": [
    "from dxtb.config import ConfigCache\n",
    "from dxtb import OutputHandler\n",
    "\n",
    "# Compute the Density matrix, LCAO-MO coefficients and energies of the Molecular Orbitals\n",
    "\n",
    "cache_config = ConfigCache(enabled=True, density=True, coefficients=True, mo_energies=True, fock=True)\n",
    "calc = dxtb.Calculator(numbers, dxtb.GFN1_XTB, CACHE_STORE_DENSITY=True, **dd)\n",
    "calc.opts.cache = cache_config\n",
    "OutputHandler.verbosity = 0\n",
    "\n",
    "density = calc.get_density(pos)\n",
    "coefficients = calc.get_coefficients(pos)\n",
    "energies = calc.get_mo_energies(pos)\n",
    "\n",
    "print(f\"\\nshape of density: {density.shape} \\nshape of coefficients: {coefficients.shape} \\nshape of energies: {energies.shape}\")\n",
    "\n",
    "print(f\"\\nenergies: {energies}\")\n",
    "print(f\"\\ndensity: {density}\")\n",
    "print(f\"\\ncoefficients: {coefficients}\")"
   ]
  },
  {
   "cell_type": "code",
   "execution_count": 10,
   "metadata": {},
   "outputs": [
    {
     "name": "stdout",
     "output_type": "stream",
     "text": [
      "\n",
      "shape of S: torch.Size([6, 6]) \n",
      "shape of D: torch.Size([3, 6, 6]) \n",
      "shape of H: torch.Size([6, 6])\n"
     ]
    }
   ],
   "source": [
    "# Integral matrices: Overlap S, Dipole, and Core Hamiltonian H0\n",
    "from dxtb.integrals.wrappers import overlap, dipint, hcore\n",
    "\n",
    "s = overlap(numbers, pos, dxtb.GFN1_XTB) # independent on the spin (uhf)\n",
    "d = dipint(numbers, pos, dxtb.GFN1_XTB)\n",
    "h = hcore(numbers, pos, dxtb.GFN1_XTB)\n",
    "\n",
    "print(f\"\\nshape of S: {s.shape} \\nshape of D: {d.shape} \\nshape of H: {h.shape}\")"
   ]
  },
  {
   "cell_type": "code",
   "execution_count": 14,
   "metadata": {},
   "outputs": [],
   "source": [
    "F_cache = calc.cache[\"fock\"]\n",
    "F = torch.einsum('ij,jk,kl,lm->im', s, coefficients, torch.diag(energies), torch.inverse(coefficients))\n",
    "\n",
    "assert torch.allclose(F, F_cache)"
   ]
  },
  {
   "cell_type": "markdown",
   "metadata": {},
   "source": [
    "# Get forces via autograd or calculator directly"
   ]
  },
  {
   "cell_type": "code",
   "execution_count": 7,
   "metadata": {},
   "outputs": [
    {
     "name": "stderr",
     "output_type": "stream",
     "text": [
      "Total Energy: -0.67860261682577 Hartree.\n"
     ]
    }
   ],
   "source": [
    "# obtain gradient (dE/dR) via autograd (Integrated Torch grad)\n",
    "calc = dxtb.Calculator(numbers, dxtb.GFN1_XTB, **dd)\n",
    "energy = calc.get_energy(pos)\n",
    "(g,) = torch.autograd.grad(energy, pos)"
   ]
  },
  {
   "cell_type": "code",
   "execution_count": 8,
   "metadata": {},
   "outputs": [
    {
     "name": "stderr",
     "output_type": "stream",
     "text": [
      "Total Energy: -0.67860261682577 Hartree.\n"
     ]
    }
   ],
   "source": [
    "# Alternatively, forces can directly be requested from the calculator.\n",
    "# (Don't forget to manually reset the calculator when the inputs are identical.)\n",
    "calc.reset()\n",
    "pos = positions.clone().requires_grad_(True)\n",
    "forces = calc.get_forces(pos)\n",
    "\n",
    "assert torch.equal(forces, -g)\n"
   ]
  },
  {
   "cell_type": "markdown",
   "metadata": {},
   "source": [
    "# Gradient of other matrices"
   ]
  },
  {
   "cell_type": "code",
   "execution_count": 9,
   "metadata": {},
   "outputs": [
    {
     "name": "stderr",
     "output_type": "stream",
     "text": [
      "Total Energy: -0.67860261682577 Hartree.\n"
     ]
    },
    {
     "name": "stdout",
     "output_type": "stream",
     "text": [
      "\n",
      "shape of density: torch.Size([6, 6])\n",
      "\n",
      "density[0]: 0.28233208850244174\n",
      "\n",
      "shape of pgrad: torch.Size([2, 3])\n",
      "\n",
      "pgrad[0]: tensor([ 4.8669e-17, -1.4612e-17,  8.9727e-02], dtype=torch.float64)\n"
     ]
    }
   ],
   "source": [
    "\n",
    "\n",
    "cache_config = ConfigCache(density=True, coefficients=True, mo_energies=True)\n",
    "calc = dxtb.Calculator(numbers, dxtb.GFN1_XTB, CACHE_STORE_DENSITY=True, **dd)\n",
    "calc.opts.cache = cache_config\n",
    "\n",
    "density = calc.get_density(pos)\n",
    "print(f\"\\nshape of density: {density.shape}\")\n",
    "print(f\"\\ndensity[0]: {density[0, 0]}\")\n",
    "\n",
    "(pgrad, ) = torch.autograd.grad(density[0, 0], pos, retain_graph=True)\n",
    "print(f\"\\nshape of pgrad: {pgrad.shape}\")\n",
    "print(f\"\\npgrad[0]: {pgrad[0]}\")"
   ]
  },
  {
   "cell_type": "markdown",
   "metadata": {},
   "source": [
    "# Use the jacobian"
   ]
  },
  {
   "cell_type": "code",
   "execution_count": 10,
   "metadata": {},
   "outputs": [
    {
     "name": "stderr",
     "output_type": "stream",
     "text": [
      "Total Energy: -0.67860261682577 Hartree.\n",
      "Total Energy: -0.67860261682577 Hartree.\n"
     ]
    },
    {
     "name": "stdout",
     "output_type": "stream",
     "text": [
      "shape of pos: torch.Size([2, 3]), shape of density: torch.Size([6, 6]), shape of density_jacobian: torch.Size([6, 6, 2, 3])\n",
      "jacobian [0, 0]: tensor([[ 0.0000e+00,  0.0000e+00,  3.2739e-34],\n",
      "        [ 0.0000e+00,  0.0000e+00, -3.2739e-34]], dtype=torch.float64)\n",
      "pgrad: tensor([[ 0.0000e+00,  0.0000e+00,  3.2739e-34],\n",
      "        [ 0.0000e+00,  0.0000e+00, -3.2739e-34]], dtype=torch.float64)\n"
     ]
    }
   ],
   "source": [
    "from torch.autograd.functional import jacobian\n",
    "\n",
    "pos = positions.clone().requires_grad_(True)\n",
    "\n",
    "density = calc.get_density(pos)\n",
    "density_jacobian = jacobian(calc.get_density, pos)\n",
    "\n",
    "print(f\"shape of pos: {pos.shape}, shape of density: {density.shape}, shape of density_jacobian: {density_jacobian.shape}\")\n",
    "\n",
    "# Check that same as autograd\n",
    "i, j = 1, 2\n",
    "(pgrad, ) = torch.autograd.grad(density[i, j], pos, retain_graph=True)\n",
    "print(f\"jacobian [0, 0]: {density_jacobian[i, j]}\")\n",
    "print(f\"pgrad: {pgrad}\")"
   ]
  },
  {
   "cell_type": "markdown",
   "metadata": {},
   "source": [
    "# All the matrices"
   ]
  },
  {
   "cell_type": "code",
   "execution_count": 11,
   "metadata": {},
   "outputs": [
    {
     "name": "stderr",
     "output_type": "stream",
     "text": [
      "Total Energy: -0.67860261682577 Hartree.\n"
     ]
    },
    {
     "name": "stderr",
     "output_type": "stream",
     "text": [
      "Total Energy: -0.67860261682577 Hartree.\n",
      "Total Energy: -0.67860261682577 Hartree.\n"
     ]
    }
   ],
   "source": [
    "from torch.autograd.functional import jacobian\n",
    "\n",
    "def get_s(pos):\n",
    "    return overlap(numbers, pos, dxtb.GFN1_XTB)\n",
    "def get_hcore(pos):\n",
    "    return hcore(numbers, pos, dxtb.GFN1_XTB)\n",
    "def get_p(pos):\n",
    "    return calc.get_density(pos)\n",
    "def get_F(pos):\n",
    "    S = overlap(numbers, pos, dxtb.GFN1_XTB)\n",
    "    E = calc.get_mo_energies(pos)\n",
    "    C = calc.get_coefficients(pos)\n",
    "    return torch.einsum('ij,jk,kl,lm->im', S, C, torch.diag(E), torch.inverse(C))\n",
    "\n",
    "pos = positions.clone().requires_grad_(True)\n",
    "\n",
    "S_jac = jacobian(get_s, pos)\n",
    "H_jac = jacobian(get_hcore, pos)\n",
    "P_jac = jacobian(get_p, pos)\n",
    "F_jac = jacobian(get_F, pos)"
   ]
  }
 ],
 "metadata": {
  "kernelspec": {
   "display_name": "orbnet_tblite_libpath",
   "language": "python",
   "name": "orbnet_tblite_libpath"
  },
  "language_info": {
   "codemirror_mode": {
    "name": "ipython",
    "version": 3
   },
   "file_extension": ".py",
   "mimetype": "text/x-python",
   "name": "python",
   "nbconvert_exporter": "python",
   "pygments_lexer": "ipython3",
   "version": "3.9.19"
  }
 },
 "nbformat": 4,
 "nbformat_minor": 2
}
