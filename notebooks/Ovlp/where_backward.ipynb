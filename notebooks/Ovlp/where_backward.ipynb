{
 "cells": [
  {
   "cell_type": "code",
   "execution_count": 15,
   "id": "c3b5f304",
   "metadata": {},
   "outputs": [
    {
     "name": "stdout",
     "output_type": "stream",
     "text": [
      "len(numbers): 176\n",
      "Calc scf mode: 1\n",
      "Calc scp mode: 1\n",
      "S.shape: torch.Size([550, 550])\n",
      "\n",
      "\n",
      "Timings\n",
      "-------\n",
      "\n",
      "\u001b[1mObjective                Time (s)        % Total\u001b[0m\n",
      "------------------------------------------------\n",
      "------------------------------------------------\n",
      "Sum                    \u001b[37m     0.000           0.00\u001b[0m\n",
      "\u001b[1mTotal                       0.085         100.00\u001b[0m\n"
     ]
    }
   ],
   "source": [
    "import numpy as np\n",
    "import torch\n",
    "import dxtb\n",
    "from dxtb.typing import DD\n",
    "from tqdm import tqdm\n",
    "from tad_mctc.data.molecules import mols as samples\n",
    "from dxtb import Calculator\n",
    "from dxtb.config import ConfigCache\n",
    "\n",
    "dd: DD = {\"dtype\": torch.double, \"device\": torch.device(\"cuda:0\")}\n",
    "cache_config = ConfigCache(enabled=False, density=True, fock=True, overlap=True)\n",
    "opts = {\"verbosity\": 2}\n",
    "\n",
    "# Molecule\n",
    "sample = samples[\"vancoh2\"]\n",
    "numbers = sample[\"numbers\"].to(dd[\"device\"])\n",
    "print(f\"len(numbers): {len(numbers)}\")\n",
    "positions = sample[\"positions\"].clone().to(**dd)\n",
    "charges = torch.tensor(0.0, **dd)\n",
    "\n",
    "pos = positions.clone().requires_grad_(True)\n",
    "\n",
    "# instantiate a dxtb calculator\n",
    "# opts = dict(opts, **{\"scf_mode\": \"reconnect\", \"scp_mode\": \"potential\"})\n",
    "opts = dict(opts, **{\"scf_mode\": \"implicit\", \"scp_mode\": \"charges\"})\n",
    "# opts = dict(opts, **{\"scf_mode\": \"reconnect\"})\n",
    "\n",
    "calc = dxtb.Calculator(numbers, dxtb.GFN1_XTB, opts=opts, **dd, timer=True)\n",
    "dxtb.timer.reset()\n",
    "calc.opts.cache = cache_config\n",
    "\n",
    "print(f\"Calc scf mode: {calc.opts.scf.scf_mode}\")\n",
    "print(f\"Calc scp mode: {calc.opts.scf.scp_mode}\")\n",
    "\n",
    "S = calc.integrals.build_overlap(pos)\n",
    "print(f\"S.shape: {S.shape}\")\n",
    "dxtb.timer.print(v=1)\n"
   ]
  },
  {
   "cell_type": "code",
   "execution_count": 17,
   "id": "e00687b9",
   "metadata": {},
   "outputs": [
    {
     "name": "stdout",
     "output_type": "stream",
     "text": [
      "-------------------------------------------------------  ------------  ------------  ------------  ------------  ------------  ------------  \n",
      "                                                   Name    Self CPU %      Self CPU   CPU total %     CPU total  CPU time avg    # of Calls  \n",
      "-------------------------------------------------------  ------------  ------------  ------------  ------------  ------------  ------------  \n",
      "autograd::engine::evaluate_function: Int2c_V2Backwar...         0.02%       7.654us        50.43%      25.156ms      25.156ms             1  \n",
      "                                       Int2c_V2Backward         0.89%     442.125us        50.39%      25.137ms      25.137ms             1  \n",
      "                                               Int2c_V2        27.55%      13.740ms        27.55%      13.742ms      13.742ms             1  \n",
      "                                           aten::einsum         0.06%      30.446us        21.80%      10.876ms       5.438ms             2  \n",
      "                                              aten::bmm         6.49%       3.236ms        21.67%      10.810ms       5.405ms             2  \n",
      "                                              aten::sum         1.48%     739.321us        16.81%       8.385ms       2.795ms             3  \n",
      "                                        cudaMemsetAsync        15.30%       7.629ms        15.30%       7.629ms       3.815ms             2  \n",
      "      autograd::engine::evaluate_function: MulBackward0         0.06%      32.080us        14.23%       7.097ms       3.549ms             2  \n",
      "                                           MulBackward0         0.03%      15.920us        13.45%       6.707ms       3.353ms             2  \n",
      "                                              aten::mul        13.43%       6.697ms        13.43%       6.697ms       1.116ms             6  \n",
      "                                            aten::copy_         4.90%       2.442ms        11.02%       5.497ms       3.753us          1465  \n",
      "                                            aten::clone         2.06%       1.026ms         8.94%       4.459ms       4.050us          1101  \n",
      "                                           aten::select         5.32%       2.651ms         6.59%       3.288ms       0.944us          3482  \n",
      "autograd::engine::evaluate_function: SelectBackward0...         0.95%     473.463us         4.33%       2.158ms      12.261us           176  \n",
      "                                     aten::_is_any_true         0.63%     313.280us         4.02%       2.007ms       2.784us           721  \n",
      "autograd::engine::evaluate_function: ToCopyBackward0...         0.05%      26.389us         3.78%       1.885ms     942.361us             2  \n",
      "    autograd::engine::evaluate_function: SliceBackward0         0.82%     409.937us         3.73%       1.859ms      10.564us           176  \n",
      "                                              aten::any         2.98%       1.488ms         3.40%       1.694ms       2.350us           721  \n",
      "                                        ToCopyBackward0         0.01%       7.294us         3.28%       1.638ms     819.227us             2  \n",
      "                                               aten::to         0.01%       6.073us         3.27%       1.632ms     272.057us             6  \n",
      "                                         aten::_to_copy         0.02%      12.050us         3.26%       1.626ms     813.135us             2  \n",
      "                                        cudaMemcpyAsync         3.06%       1.524ms         3.06%       1.524ms     380.995us             4  \n",
      "autograd::engine::evaluate_function: UnsqueezeBackwa...         0.86%     427.622us         2.75%       1.371ms       7.701us           178  \n",
      "      autograd::engine::evaluate_function: CatBackward0         0.58%     288.337us         2.70%       1.347ms       1.347ms             1  \n",
      "                                            aten::isnan         0.66%     329.590us         2.45%       1.224ms       1.697us           721  \n",
      "                                       aten::empty_like         1.44%     715.868us         2.37%       1.181ms       1.071us          1103  \n",
      "                                               aten::ne         1.75%     874.643us         1.79%     894.200us       1.240us           721  \n",
      "                                       aten::as_strided         1.72%     858.900us         1.72%     858.900us       0.180us          4767  \n",
      "                                        SelectBackward0         0.22%     109.281us         1.72%     856.877us       4.869us           176  \n",
      "                                         SliceBackward0         0.25%     126.817us         1.66%     829.520us       4.713us           176  \n",
      "                                  aten::select_backward         0.47%     233.376us         1.50%     747.596us       4.248us           176  \n",
      "                                   aten::slice_backward         0.56%     280.671us         1.41%     702.703us       3.993us           176  \n",
      "                                            aten::empty         1.23%     611.976us         1.23%     611.976us       0.419us          1461  \n",
      "                                            aten::zeros         0.61%     305.430us         1.03%     513.177us       1.454us           353  \n",
      "                                           CatBackward0         0.17%      82.778us         0.82%     407.081us     407.081us             1  \n",
      "                                             aten::item         0.53%     264.519us         0.75%     373.168us       0.518us           721  \n",
      "                                            aten::slice         0.58%     289.708us         0.71%     353.584us       1.005us           352  \n",
      "                                           aten::narrow         0.23%     112.263us         0.65%     324.303us       1.843us           176  \n",
      "                                     UnsqueezeBackward0         0.17%      85.520us         0.57%     284.286us       1.597us           178  \n",
      "autograd::engine::evaluate_function: PermuteBackward...         0.04%      19.857us         0.51%     253.655us      63.414us             4  \n",
      "                                          aten::squeeze         0.34%     171.338us         0.40%     198.766us       1.117us           178  \n",
      "autograd::engine::evaluate_function: DiagonalBackwar...         0.02%       8.476us         0.39%     193.442us     193.442us             1  \n",
      "      autograd::engine::evaluate_function: SumBackward0         0.05%      22.712us         0.37%     183.673us     183.673us             1  \n",
      "                              aten::_local_scalar_dense         0.15%      77.059us         0.22%     108.649us       0.151us           721  \n",
      "                                             aten::add_         0.18%      90.757us         0.18%      90.757us       0.519us           175  \n",
      "                                            aten::fill_         0.12%      58.234us         0.13%      62.542us       0.087us           723  \n",
      "                                            aten::zero_         0.09%      45.878us         0.12%      58.542us       0.165us           354  \n",
      "                                       cudaLaunchKernel         0.11%      52.449us         0.11%      52.449us       7.493us             7  \n",
      "                                    aten::empty_strided         0.10%      51.587us         0.10%      51.587us      12.897us             4  \n",
      "                                              aten::add         0.10%      50.865us         0.10%      50.865us      25.433us             2  \n",
      "-------------------------------------------------------  ------------  ------------  ------------  ------------  ------------  ------------  \n",
      "Self CPU time total: 49.881ms\n",
      "\n"
     ]
    }
   ],
   "source": [
    "with torch.autograd.profiler.profile(record_shapes=True, use_cuda=False) as prof:\n",
    "    torch.autograd.grad(S.sum(), pos, retain_graph=True)\n",
    "\n",
    "print(prof.key_averages().table(sort_by=\"cpu_time_total\", row_limit=50))"
   ]
  }
 ],
 "metadata": {
  "kernelspec": {
   "display_name": "dxtb",
   "language": "python",
   "name": "python3"
  },
  "language_info": {
   "codemirror_mode": {
    "name": "ipython",
    "version": 3
   },
   "file_extension": ".py",
   "mimetype": "text/x-python",
   "name": "python",
   "nbconvert_exporter": "python",
   "pygments_lexer": "ipython3",
   "version": "3.11.11"
  }
 },
 "nbformat": 4,
 "nbformat_minor": 5
}
