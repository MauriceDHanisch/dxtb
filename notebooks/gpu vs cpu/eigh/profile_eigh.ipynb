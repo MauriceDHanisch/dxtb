{
 "cells": [
  {
   "cell_type": "code",
   "execution_count": 2,
   "metadata": {},
   "outputs": [
    {
     "name": "stderr",
     "output_type": "stream",
     "text": [
      "/tmp/ipykernel_3178949/395208609.py:10: FutureWarning: The attribute `use_cuda` will be deprecated soon, please use ``use_device = 'cuda'`` instead.\n",
      "  with torch.autograd.profiler.profile(use_cuda=True) as prof:\n"
     ]
    },
    {
     "name": "stdout",
     "output_type": "stream",
     "text": [
      "------------------------------  ------------  ------------  ------------  ------------  ------------  ------------  ------------  ------------  ------------  ------------  \n",
      "                          Name    Self CPU %      Self CPU   CPU total %     CPU total  CPU time avg     Self CUDA   Self CUDA %    CUDA total  CUDA time avg    # of Calls  \n",
      "------------------------------  ------------  ------------  ------------  ------------  ------------  ------------  ------------  ------------  ------------  ------------  \n",
      "             aten::linalg_eigh         0.00%       5.351us       100.00%     237.028ms     237.028ms       5.000us         0.00%     235.942ms     235.942ms             1  \n",
      "            aten::_linalg_eigh         2.26%       5.354ms        99.99%     237.021ms     237.021ms     218.332ms        92.54%     235.937ms     235.937ms             1  \n",
      "    aten::_linalg_check_errors         0.01%      19.737us         3.78%       8.970ms       8.970ms       9.000us         0.00%       7.746ms       7.746ms             1  \n",
      "                     aten::any         0.02%      44.973us         3.42%       8.106ms       8.106ms       7.694ms         3.26%       7.695ms       7.695ms             1  \n",
      "                   aten::copy_         0.01%      22.964us         2.66%       6.311ms       6.311ms       6.492ms         2.75%       6.492ms       6.492ms             1  \n",
      "                   aten::zeros         0.00%      10.600us         1.42%       3.357ms       3.357ms       3.000us         0.00%       3.367ms       3.367ms             1  \n",
      "                   aten::zero_         0.00%       5.530us         1.41%       3.335ms       3.335ms       3.000us         0.00%       3.363ms       3.363ms             1  \n",
      "                   aten::fill_         0.01%      14.327us         1.40%       3.327ms       3.327ms       3.360ms         1.42%       3.360ms       3.360ms             1  \n",
      "                    aten::item         0.00%       5.640us         0.35%     838.515us     838.515us       4.000us         0.00%      42.000us      42.000us             1  \n",
      "     aten::_local_scalar_dense         0.01%      25.318us         0.35%     830.290us     830.290us      38.000us         0.02%      38.000us      38.000us             1  \n",
      "                   aten::empty         0.00%       6.402us         0.00%       6.402us       6.402us       1.000us         0.00%       1.000us       1.000us             1  \n",
      "              aten::as_strided         0.00%       2.856us         0.00%       2.856us       2.856us       1.000us         0.00%       1.000us       1.000us             1  \n",
      "               cudaEventRecord         0.01%      33.943us         0.01%      33.943us       1.414us       0.000us         0.00%       0.000us       0.000us            24  \n",
      "         cudaStreamIsCapturing         0.00%       1.502us         0.00%       1.502us       1.502us       0.000us         0.00%       0.000us       0.000us             1  \n",
      "                    cudaMalloc         0.18%     434.830us         0.18%     434.830us      31.059us       0.000us         0.00%       0.000us       0.000us            14  \n",
      "              cudaLaunchKernel        18.69%      44.293ms        18.69%      44.293ms       8.592us       0.000us         0.00%       0.000us       0.000us          5155  \n",
      "            cudaGetDeviceCount         0.00%       0.141us         0.00%       0.141us       0.141us       0.000us         0.00%       0.000us       0.000us             1  \n",
      "    cudaGetDeviceProperties_v2         0.04%      99.195us         0.04%      99.195us      99.195us       0.000us         0.00%       0.000us       0.000us             1  \n",
      "        cudaDeviceGetAttribute         0.00%       2.682us         0.00%       2.682us       0.096us       0.000us         0.00%       0.000us       0.000us            28  \n",
      "                      cudaFree         0.49%       1.159ms         0.49%       1.159ms     231.760us       0.000us         0.00%       0.000us       0.000us             5  \n",
      "       cudaGetDriverEntryPoint         0.00%       0.330us         0.00%       0.330us       0.165us       0.000us         0.00%       0.000us       0.000us             2  \n",
      "          cudaGetSymbolAddress         2.60%       6.173ms         2.60%       6.173ms       6.173ms       0.000us         0.00%       0.000us       0.000us             1  \n",
      "     cudaStreamCreateWithFlags         0.26%     618.255us         0.26%     618.255us     206.085us       0.000us         0.00%       0.000us       0.000us             3  \n",
      "               cudaMemcpyAsync        75.03%     177.842ms        75.03%     177.842ms       1.574ms       0.000us         0.00%       0.000us       0.000us           113  \n",
      "         cudaStreamSynchronize         0.02%      39.069us         0.02%      39.069us       0.439us       0.000us         0.00%       0.000us       0.000us            89  \n",
      "               cudaMemsetAsync         0.01%      27.132us         0.01%      27.132us       1.130us       0.000us         0.00%       0.000us       0.000us            24  \n",
      "                 cudaHostAlloc         0.33%     793.211us         0.33%     793.211us     793.211us       0.000us         0.00%       0.000us       0.000us             1  \n",
      "         cudaDeviceSynchronize         0.00%       2.886us         0.00%       2.886us       2.886us       0.000us         0.00%       0.000us       0.000us             1  \n",
      "------------------------------  ------------  ------------  ------------  ------------  ------------  ------------  ------------  ------------  ------------  ------------  \n",
      "Self CPU time total: 237.037ms\n",
      "Self CUDA time total: 235.942ms\n",
      "\n"
     ]
    }
   ],
   "source": [
    "import torch\n",
    "from functorch import vmap\n",
    "\n",
    "device = torch.device(\"cuda:0\")\n",
    "# device = torch.device(\"cpu\")\n",
    "\n",
    "x = torch.randn(8, 300, 300, device=device)\n",
    "x = 0.5 * (x + x.transpose(-1, -2))\n",
    "\n",
    "with torch.autograd.profiler.profile(use_cuda=True) as prof:\n",
    "    torch.linalg.eigh(x)\n",
    "\n",
    "print(prof.key_averages().table(sort_by=\"cuda_time_total\"))\n"
   ]
  }
 ],
 "metadata": {
  "kernelspec": {
   "display_name": "dxtb",
   "language": "python",
   "name": "python3"
  },
  "language_info": {
   "codemirror_mode": {
    "name": "ipython",
    "version": 3
   },
   "file_extension": ".py",
   "mimetype": "text/x-python",
   "name": "python",
   "nbconvert_exporter": "python",
   "pygments_lexer": "ipython3",
   "version": "3.11.11"
  }
 },
 "nbformat": 4,
 "nbformat_minor": 2
}
