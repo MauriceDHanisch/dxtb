{
 "cells": [
  {
   "cell_type": "code",
   "execution_count": null,
   "metadata": {},
   "outputs": [],
   "source": [
    "import torch\n",
    "import time\n",
    "import matplotlib.pyplot as plt\n",
    "from tqdm import tqdm\n",
    "\n",
    "def benchmark_batched_eig(matrix_size=256, batch_sizes=[1, 2, 4, 8, 16, 32]):\n",
    "    cpu_times, gpu_times = [], []\n",
    "\n",
    "    for B in tqdm(batch_sizes):\n",
    "        A = torch.randn(B, matrix_size, matrix_size)\n",
    "        A = A @ A.transpose(-1, -2)  # Make symmetric for real eigvals\n",
    "\n",
    "        # CPU\n",
    "        start = time.time()\n",
    "        _ = torch.linalg.eigvals(A)\n",
    "        cpu_times.append(time.time() - start)\n",
    "\n",
    "        # GPU\n",
    "        if torch.cuda.is_available():\n",
    "            A_gpu = A.to(\"cuda\")\n",
    "            _ = torch.linalg.eigvals(A_gpu)  # Warm-up\n",
    "            torch.cuda.synchronize()\n",
    "            start = time.time()\n",
    "            _ = torch.linalg.eigvals(A_gpu)\n",
    "            torch.cuda.synchronize()\n",
    "            gpu_times.append(time.time() - start)\n",
    "        else:\n",
    "            gpu_times.append(None)\n",
    "\n",
    "    return batch_sizes, cpu_times, gpu_times\n",
    "\n",
    "\n",
    "def plot_batched_results(batch_sizes, cpu_times, gpu_times, anchor_batch_size=2, matrix_size=256):\n",
    "    plt.figure()\n",
    "    \n",
    "    plt.plot(batch_sizes, cpu_times, \"o-\", label=\"CPU\", color=\"navy\", markersize=2)\n",
    "    if any(gpu_times):\n",
    "        plt.plot(batch_sizes, gpu_times, \"o-\", label=\"GPU\", color=\"crimson\", markersize=2)\n",
    "\n",
    "    # Linear baselines from anchor\n",
    "    if anchor_batch_size in batch_sizes:\n",
    "        idx = batch_sizes.index(anchor_batch_size)\n",
    "        cpu_anchor = cpu_times[idx]\n",
    "        plt.plot(batch_sizes, [cpu_anchor * (b / anchor_batch_size) for b in batch_sizes],\n",
    "                 \"--\", label=f\"CPU Linear @{anchor_batch_size}\", color=\"blue\", alpha=0.4)\n",
    "        if gpu_times[idx] is not None:\n",
    "            gpu_anchor = gpu_times[idx]\n",
    "            plt.plot(batch_sizes, [gpu_anchor * (b / anchor_batch_size) for b in batch_sizes],\n",
    "                     \"--\", label=f\"GPU Linear @{anchor_batch_size}\", color=\"red\", alpha=0.4)\n",
    "\n",
    "    plt.xlabel(\"Batch Size\")\n",
    "    plt.ylabel(\"Total Time (s)\")\n",
    "    plt.title(f\"Fixed Size = {matrix_size}x{matrix_size}\")\n",
    "    plt.grid(True, linestyle=\"--\", alpha=0.5)\n",
    "    plt.legend()\n",
    "    plt.tight_layout()\n",
    "    plt.show()"
   ]
  },
  {
   "cell_type": "code",
   "execution_count": null,
   "metadata": {},
   "outputs": [],
   "source": [
    "matrix_size = 92\n",
    "batch_size = list(range(2, 129, 2))\n",
    "batch_sizes, cpu_times, gpu_times = benchmark_batched_eig(matrix_size=matrix_size, batch_sizes=batch_size)"
   ]
  },
  {
   "cell_type": "code",
   "execution_count": null,
   "metadata": {},
   "outputs": [],
   "source": [
    "plot_batched_results(batch_sizes, cpu_times, gpu_times, anchor_batch_size=12, matrix_size=matrix_size)\n",
    "# Plotting the CPU times"
   ]
  },
  {
   "cell_type": "markdown",
   "metadata": {},
   "source": [
    "# Batched Matrix Multiplication"
   ]
  },
  {
   "cell_type": "code",
   "execution_count": null,
   "metadata": {},
   "outputs": [],
   "source": [
    "import torch\n",
    "import time\n",
    "import matplotlib.pyplot as plt\n",
    "from tqdm import tqdm\n",
    "\n",
    "def benchmark_batched_matmul(matrix_size=256, batch_sizes=[1, 2, 4, 8, 16, 32, 64, 128]):\n",
    "    cpu_times, gpu_times = [], []\n",
    "\n",
    "    for B in tqdm(batch_sizes):\n",
    "        A = torch.randn(B, matrix_size, matrix_size)\n",
    "        B_ = torch.randn(B, matrix_size, matrix_size)\n",
    "\n",
    "        # CPU\n",
    "        start = time.time()\n",
    "        _ = torch.bmm(A, B_)\n",
    "        cpu_times.append(time.time() - start)\n",
    "\n",
    "        # GPU\n",
    "        if torch.cuda.is_available():\n",
    "            A_gpu = A.to(\"cuda\")\n",
    "            B_gpu = B_.to(\"cuda\")\n",
    "            # Warm-up\n",
    "            _ = torch.bmm(A_gpu, B_gpu)\n",
    "            torch.cuda.synchronize()\n",
    "            start = time.time()\n",
    "            _ = torch.bmm(A_gpu, B_gpu)\n",
    "            torch.cuda.synchronize()\n",
    "            gpu_times.append(time.time() - start)\n",
    "        else:\n",
    "            gpu_times.append(None)\n",
    "\n",
    "    return batch_sizes, cpu_times, gpu_times\n",
    "\n",
    "\n",
    "def plot_batched_results(batch_sizes, cpu_times, gpu_times, anchor_batch_size=2, matrix_size=256):\n",
    "    plt.figure()\n",
    "    \n",
    "    # plt.plot(batch_sizes, cpu_times, \"o-\", label=\"CPU\", color=\"navy\", markersize=2)\n",
    "    if any(gpu_times):\n",
    "        plt.plot(batch_sizes, gpu_times, \"o-\", label=\"GPU\", color=\"crimson\", markersize=2)\n",
    "\n",
    "    # Linear baselines from anchor\n",
    "    if anchor_batch_size in batch_sizes:\n",
    "        idx = batch_sizes.index(anchor_batch_size)\n",
    "        cpu_anchor = cpu_times[idx]\n",
    "        # plt.plot(batch_sizes, [cpu_anchor * (b / anchor_batch_size) for b in batch_sizes],\n",
    "        #          \"--\", label=f\"CPU Linear @{anchor_batch_size}\", color=\"blue\", alpha=0.4)\n",
    "        if gpu_times[idx] is not None:\n",
    "            gpu_anchor = gpu_times[idx]\n",
    "            plt.plot(batch_sizes, [gpu_anchor * (b / anchor_batch_size) for b in batch_sizes],\n",
    "                     \"--\", label=f\"GPU Linear @{anchor_batch_size}\", color=\"red\", alpha=0.4)\n",
    "\n",
    "    plt.xlabel(\"Batch Size\")\n",
    "    plt.ylabel(\"Total Time (s)\")\n",
    "    plt.title(f\"Batched Matrix Multiplication (Fixed Size = {matrix_size}x{matrix_size})\")\n",
    "    plt.grid(True, linestyle=\"--\", alpha=0.5)\n",
    "    plt.legend()\n",
    "    plt.tight_layout()\n",
    "    plt.show()"
   ]
  },
  {
   "cell_type": "code",
   "execution_count": null,
   "metadata": {},
   "outputs": [],
   "source": [
    "# Usage\n",
    "matrix_size = 512\n",
    "batch_sizes = list(np.arange(1, 129*3, 3))\n",
    "batch_sizes, cpu_times, gpu_times = benchmark_batched_matmul(matrix_size=matrix_size, batch_sizes=batch_sizes)"
   ]
  },
  {
   "cell_type": "code",
   "execution_count": null,
   "metadata": {},
   "outputs": [],
   "source": [
    "plot_batched_results(batch_sizes, cpu_times, gpu_times, anchor_batch_size=16, matrix_size=matrix_size)\n"
   ]
  },
  {
   "cell_type": "code",
   "execution_count": null,
   "metadata": {},
   "outputs": [],
   "source": []
  }
 ],
 "metadata": {
  "kernelspec": {
   "display_name": "dxtb",
   "language": "python",
   "name": "python3"
  },
  "language_info": {
   "codemirror_mode": {
    "name": "ipython",
    "version": 3
   },
   "file_extension": ".py",
   "mimetype": "text/x-python",
   "name": "python",
   "nbconvert_exporter": "python",
   "pygments_lexer": "ipython3",
   "version": "3.11.11"
  }
 },
 "nbformat": 4,
 "nbformat_minor": 2
}
