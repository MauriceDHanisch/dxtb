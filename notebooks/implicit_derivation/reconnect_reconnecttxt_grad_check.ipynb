{
 "cells": [
  {
   "cell_type": "code",
   "execution_count": 1,
   "id": "82509066",
   "metadata": {},
   "outputs": [
    {
     "name": "stdout",
     "output_type": "stream",
     "text": [
      "Number of carbon atoms in alkane_9_carbons: 9\n",
      "Nb of atoms: 29\n"
     ]
    }
   ],
   "source": [
    "%reload_ext autoreload\n",
    "%autoreload 2\n",
    "\n",
    "import h5py\n",
    "N_Cs = 9\n",
    "\n",
    "with h5py.File('../dxtb/dxtb-gpu/gpu-cpu_analysis/rdkit/alkanes_data_500.hdf5', 'r') as f:\n",
    "    for mol_name, data in f.items():\n",
    "        if mol_name == f\"alkane_{N_Cs}_carbons\":\n",
    "            atomic_numbers = data['atomic_numbers'][:]\n",
    "            coordinates = data['coordinates'][:]\n",
    "\n",
    "print(f\"Number of carbon atoms in {mol_name}: {N_Cs}\")\n",
    "print(f\"Nb of atoms: {len(atomic_numbers)}\")"
   ]
  },
  {
   "cell_type": "code",
   "execution_count": 2,
   "id": "3a8cee94",
   "metadata": {},
   "outputs": [
    {
     "name": "stdout",
     "output_type": "stream",
     "text": [
      "Number of carbon atoms in alkane_9_carbons: 9\n",
      "Nb of atoms: 29\n",
      "batch_size: 64\n"
     ]
    }
   ],
   "source": [
    "import dxtb\n",
    "from dxtb._src.typing import DD\n",
    "import torch\n",
    "from dxtb.config import ConfigCache\n",
    "\n",
    "batch_size = 64\n",
    "\n",
    "print(f\"Number of carbon atoms in {mol_name}: {N_Cs}\")\n",
    "print(f\"Nb of atoms: {len(atomic_numbers)}\")\n",
    "print(f\"batch_size: {batch_size}\")\n",
    "\n",
    "dd = {\"device\": torch.device(\"cuda:0\"), \"dtype\": torch.float32}\n",
    "numbers = torch.tensor(atomic_numbers, device=dd[\"device\"], dtype=torch.int32)\n",
    "positions = torch.tensor(coordinates, device=dd[\"device\"], dtype=dd[\"dtype\"])\n",
    "numbers = torch.stack([numbers] * batch_size)\n",
    "positions = torch.stack([positions] * batch_size).requires_grad_()\n",
    "charges = torch.zeros((batch_size,), device=dd[\"device\"], dtype=dd[\"dtype\"])\n",
    "\n",
    "results = {}"
   ]
  },
  {
   "cell_type": "code",
   "execution_count": 3,
   "id": "b4f4d211",
   "metadata": {},
   "outputs": [
    {
     "name": "stdout",
     "output_type": "stream",
     "text": [
      "\n",
      "\n",
      "Timings\n",
      "-------\n",
      "\n",
      "\u001b[1mObjective                Time (s)        % Total\u001b[0m\n",
      "------------------------------------------------\n",
      "\u001b[1mClassicals                  0.044           2.66\u001b[0m\n",
      " - Halogen             \u001b[37m     0.005          12.00\u001b[0m\n",
      " - Repulsion           \u001b[37m     0.026          59.87\u001b[0m\n",
      " - DispersionD3        \u001b[37m     0.012          27.85\u001b[0m\n",
      "\u001b[1mIntegrals                   0.197          12.01\u001b[0m\n",
      " - Overlap             \u001b[37m     0.194          98.35\u001b[0m\n",
      " - Core Hamiltonian    \u001b[37m     0.003           1.65\u001b[0m\n",
      "\u001b[1mSCF                         1.185          72.18\u001b[0m\n",
      " - Interaction Cache   \u001b[37m     0.001           0.08\u001b[0m\n",
      " - Potential           \u001b[37m     0.011           0.90\u001b[0m\n",
      " - Fock build          \u001b[37m     0.001           0.09\u001b[0m\n",
      " - Diagonalize         \u001b[37m     1.085          91.59\u001b[0m\n",
      " - Density             \u001b[37m     0.003           0.26\u001b[0m\n",
      " - Charges             \u001b[37m     0.003           0.27\u001b[0m\n",
      "\u001b[1mForces autograd             0.134           8.16\u001b[0m\n",
      "------------------------------------------------\n",
      "Sum                    \u001b[37m     1.560          95.01\u001b[0m\n",
      "\u001b[1mTotal                       1.642         100.00\u001b[0m\n"
     ]
    }
   ],
   "source": [
    "opts = {\"scf_mode\": \"full\", \"batch_mode\": 2, \"int_driver\": \"libcint\", \"maxiter\":10000}\n",
    "\n",
    "calc = dxtb.Calculator(numbers, dxtb.GFN1_XTB, **dd, opts=opts, timer=True)\n",
    "calc.opts.cache = ConfigCache(enabled=False, density=True, fock=True, overlap=False)\n",
    "dxtb.timer.reset()\n",
    "e = calc.get_energy(positions, chrg=charges)\n",
    "dxtb.timer.start(\"Forces autograd\")\n",
    "forces = torch.autograd.grad(sum(e), positions, retain_graph=True)[0]\n",
    "dxtb.timer.stop(\"Forces autograd\")\n",
    "dxtb.timer.print(v=0)\n",
    "\n",
    "results[f\"e_{opts['scf_mode']}\"] = e\n",
    "results[f\"forces_{opts['scf_mode']}\"] = forces\n",
    "results[f\"Fgrad_{opts['scf_mode']}\"] = torch.autograd.grad(calc.cache[\"fock\"].sum(), positions, retain_graph=True)[0]\n",
    "results[f\"Pgrad_{opts['scf_mode']}\"] = torch.autograd.grad(calc.get_density(positions, chrg=charges).sum(), positions, retain_graph=True)[0]\n",
    "\n",
    "# For reconnect modes\n",
    "scf_charges = calc.get_charges(positions, chrg=charges)\n",
    "scf_charge_mode = opts[\"scf_mode\"]"
   ]
  },
  {
   "cell_type": "code",
   "execution_count": 4,
   "id": "d8a3c5b6",
   "metadata": {},
   "outputs": [
    {
     "name": "stdout",
     "output_type": "stream",
     "text": [
      "\n",
      "\n",
      "Timings\n",
      "-------\n",
      "\n",
      "\u001b[1mObjective                Time (s)        % Total\u001b[0m\n",
      "------------------------------------------------\n",
      "\u001b[1mClassicals                  0.009           1.67\u001b[0m\n",
      " - Repulsion           \u001b[37m     0.001           6.81\u001b[0m\n",
      " - Halogen             \u001b[37m     0.004          39.99\u001b[0m\n",
      " - DispersionD3        \u001b[37m     0.005          52.79\u001b[0m\n",
      "\u001b[1mIntegrals                   0.186          34.26\u001b[0m\n",
      " - Overlap             \u001b[37m     0.184          99.06\u001b[0m\n",
      " - Core Hamiltonian    \u001b[37m     0.002           0.94\u001b[0m\n",
      "\u001b[1mSCF                         0.202          37.22\u001b[0m\n",
      " - Interaction Cache   \u001b[37m     0.001           0.44\u001b[0m\n",
      " - Potential           \u001b[37m     0.154          76.14\u001b[0m\n",
      " - Fock build          \u001b[37m     0.001           0.65\u001b[0m\n",
      " - Diagonalize         \u001b[37m     0.115          56.96\u001b[0m\n",
      " - Density             \u001b[37m     0.006           3.03\u001b[0m\n",
      " - Charges             \u001b[37m     0.006           3.07\u001b[0m\n",
      "\u001b[1mForces autograd             0.145          26.73\u001b[0m\n",
      "------------------------------------------------\n",
      "Sum                    \u001b[37m     0.542          99.87\u001b[0m\n",
      "\u001b[1mTotal                       0.543         100.00\u001b[0m\n"
     ]
    }
   ],
   "source": [
    "opts = {\"scf_mode\": \"implicit\", \"batch_mode\": 2, \"int_driver\": \"libcint\", \"maxiter\":10000}\n",
    "\n",
    "calc = dxtb.Calculator(numbers, dxtb.GFN1_XTB, **dd, opts=opts, timer=True)\n",
    "calc.opts.cache = ConfigCache(enabled=False, density=True, fock=True, overlap=False)\n",
    "dxtb.timer.reset()\n",
    "e = calc.get_energy(positions, chrg=charges)\n",
    "dxtb.timer.start(\"Forces autograd\")\n",
    "forces = torch.autograd.grad(sum(e), positions, retain_graph=True)[0]\n",
    "dxtb.timer.stop(\"Forces autograd\")\n",
    "dxtb.timer.print(v=0)\n",
    "\n",
    "results[f\"e_{opts['scf_mode']}\"] = e\n",
    "results[f\"forces_{opts['scf_mode']}\"] = forces\n",
    "results[f\"Fgrad_{opts['scf_mode']}\"] = torch.autograd.grad(calc.cache[\"fock\"].sum(), positions, retain_graph=True)[0]\n",
    "results[f\"Pgrad_{opts['scf_mode']}\"] = torch.autograd.grad(calc.get_density(positions, chrg=charges).sum(), positions, retain_graph=True)[0]\n",
    "\n",
    "# For reconnect modes\n",
    "scf_charges = calc.get_charges(positions, chrg=charges)\n",
    "scf_charge_mode = opts[\"scf_mode\"]\n"
   ]
  },
  {
   "cell_type": "code",
   "execution_count": 5,
   "id": "c413cc72",
   "metadata": {},
   "outputs": [
    {
     "name": "stdout",
     "output_type": "stream",
     "text": [
      "\n",
      "\n",
      "Timings\n",
      "-------\n",
      "\n",
      "\u001b[1mObjective                Time (s)        % Total\u001b[0m\n",
      "------------------------------------------------\n",
      "\u001b[1mClassicals                  0.007           2.66\u001b[0m\n",
      " - Repulsion           \u001b[37m     0.001           9.03\u001b[0m\n",
      " - Halogen             \u001b[37m     0.003          52.74\u001b[0m\n",
      " - DispersionD3        \u001b[37m     0.002          37.68\u001b[0m\n",
      "\u001b[1mIntegrals                   0.156          63.07\u001b[0m\n",
      " - Overlap             \u001b[37m     0.154          98.95\u001b[0m\n",
      " - Core Hamiltonian    \u001b[37m     0.002           1.05\u001b[0m\n",
      "\u001b[1mSCF                         0.014           5.67\u001b[0m\n",
      " - Interaction Cache   \u001b[37m     0.001           5.14\u001b[0m\n",
      " - Potential           \u001b[37m     0.010          69.53\u001b[0m\n",
      " - Fock build          \u001b[37m     0.000           0.73\u001b[0m\n",
      " - Diagonalize         \u001b[37m     0.007          50.11\u001b[0m\n",
      " - Density             \u001b[37m     0.000           3.00\u001b[0m\n",
      " - Charges             \u001b[37m     0.000           3.11\u001b[0m\n",
      "\u001b[1mForces autograd             0.070          28.32\u001b[0m\n",
      "------------------------------------------------\n",
      "Sum                    \u001b[37m     0.246          99.72\u001b[0m\n",
      "\u001b[1mTotal                       0.247         100.00\u001b[0m\n"
     ]
    }
   ],
   "source": [
    "opts = {\"scf_mode\": \"reconnectxt\", \"batch_mode\": 1, \"int_driver\": \"libcint\", \"maxiter\": 1}\n",
    "\n",
    "calc = dxtb.Calculator(numbers, dxtb.GFN1_XTB, **dd, opts=opts, timer=True)\n",
    "calc.opts.cache = ConfigCache(enabled=False, density=True, fock=True, overlap=False)\n",
    "dxtb.timer.reset()\n",
    "e = calc.get_energy(positions, chrg=charges, scf_charges_guess=scf_charges)\n",
    "dxtb.timer.start(\"Forces autograd\")\n",
    "forces = torch.autograd.grad(sum(e), positions, retain_graph=True)[0]\n",
    "dxtb.timer.stop(\"Forces autograd\")\n",
    "dxtb.timer.print(v=0)\n",
    "\n",
    "results[f\"e_{opts['scf_mode']}\"] = e\n",
    "results[f\"forces_{opts['scf_mode']}\"] = forces\n",
    "results[f\"Fgrad_{opts['scf_mode']}\"] = torch.autograd.grad(calc.cache[\"fock\"].sum(), positions, retain_graph=True)[0]\n",
    "results[f\"Pgrad_{opts['scf_mode']}\"] = torch.autograd.grad(calc.get_density(positions, chrg=charges, scf_charges_guess=scf_charges).sum(), positions, retain_graph=True)[0]\n"
   ]
  },
  {
   "cell_type": "code",
   "execution_count": 6,
   "id": "190c5657",
   "metadata": {},
   "outputs": [
    {
     "name": "stdout",
     "output_type": "stream",
     "text": [
      "\n",
      "\n",
      "Timings\n",
      "-------\n",
      "\n",
      "\u001b[1mObjective                Time (s)        % Total\u001b[0m\n",
      "------------------------------------------------\n",
      "\u001b[1mClassicals                  0.007           2.16\u001b[0m\n",
      " - Halogen             \u001b[37m     0.003          50.90\u001b[0m\n",
      " - Repulsion           \u001b[37m     0.001           8.64\u001b[0m\n",
      " - DispersionD3        \u001b[37m     0.003          39.93\u001b[0m\n",
      "\u001b[1mIntegrals                   0.156          49.04\u001b[0m\n",
      " - Overlap             \u001b[37m     0.154          99.00\u001b[0m\n",
      " - Core Hamiltonian    \u001b[37m     0.002           1.00\u001b[0m\n",
      "\u001b[1mSCF                         0.006           2.02\u001b[0m\n",
      " - Interaction Cache   \u001b[37m     0.001          13.17\u001b[0m\n",
      " - Potential           \u001b[37m     0.003          52.80\u001b[0m\n",
      " - Fock build          \u001b[37m     0.000           0.53\u001b[0m\n",
      " - Diagonalize         \u001b[37m     0.002          37.33\u001b[0m\n",
      " - Density             \u001b[37m     0.000           2.45\u001b[0m\n",
      " - Charges             \u001b[37m     0.000           2.53\u001b[0m\n",
      "\u001b[1mForces autograd             0.148          46.56\u001b[0m\n",
      "------------------------------------------------\n",
      "Sum                    \u001b[37m     0.317          99.78\u001b[0m\n",
      "\u001b[1mTotal                       0.318         100.00\u001b[0m\n"
     ]
    }
   ],
   "source": [
    "opts = {\"scf_mode\": \"reconnect\", \"batch_mode\": 1, \"int_driver\": \"libcint\", \"maxiter\": 1}\n",
    "\n",
    "calc = dxtb.Calculator(numbers, dxtb.GFN1_XTB, **dd, opts=opts, timer=True)\n",
    "calc.opts.cache = ConfigCache(enabled=False, density=True, fock=True, overlap=False)\n",
    "dxtb.timer.reset()\n",
    "e = calc.get_energy(positions, chrg=charges, scf_charges_guess=scf_charges)\n",
    "dxtb.timer.start(\"Forces autograd\")\n",
    "forces = torch.autograd.grad(sum(e), positions, retain_graph=True)[0]\n",
    "dxtb.timer.stop(\"Forces autograd\")\n",
    "dxtb.timer.print(v=0)\n",
    "\n",
    "results[f\"e_{opts['scf_mode']}\"] = e\n",
    "results[f\"forces_{opts['scf_mode']}\"] = forces\n",
    "results[f\"Fgrad_{opts['scf_mode']}\"] = torch.autograd.grad(calc.cache[\"fock\"].sum(), positions, retain_graph=True)[0]\n",
    "results[f\"Pgrad_{opts['scf_mode']}\"] = torch.autograd.grad(calc.get_density(positions, chrg=charges, scf_charges_guess=scf_charges).sum(), positions, retain_graph=True)[0]"
   ]
  },
  {
   "cell_type": "code",
   "execution_count": 7,
   "id": "dd008f9c",
   "metadata": {},
   "outputs": [
    {
     "name": "stdout",
     "output_type": "stream",
     "text": [
      "Number of carbon atoms in alkane_9_carbons: 9\n",
      "Nb of atoms: 29\n",
      "batch_size: 64\n",
      "Using precomputed implicit charges\n",
      "\n",
      "-3.555391550064087 = e_full\n",
      "-3.55527925491333 = e_implicit\n",
      "-3.555271625518799 = e_reconnect\n",
      "-3.5552761554718018 = e_reconnectxt\n",
      "\n",
      "-1.12e-04 = e_full - e_implicit\n",
      "0.00e+00 = e_implicit - e_implicit\n",
      "7.63e-06 = e_reconnect - e_implicit\n",
      "3.10e-06 = e_reconnectxt - e_implicit\n",
      "\n",
      "0.00e+00 = max(forces_full - forces_full)\n",
      "4.77e-06 = max(forces_full - forces_implicit)\n",
      "6.56e-06 = max(forces_reconnect - forces_full)\n",
      "8.82e-06 = max(forces_reconnect - forces_implicit)\n",
      "6.20e-06 = max(forces_reconnectxt - forces_full)\n",
      "3.34e-06 = max(forces_reconnectxt - forces_implicit)\n",
      "\n",
      "0.00e+00 = max(Fgrad_full - Fgrad_full)\n",
      "4.74e+00 = max(Fgrad_full - Fgrad_implicit)\n",
      "5.25e+00 = max(Fgrad_reconnect - Fgrad_full)\n",
      "9.32e+00 = max(Fgrad_reconnect - Fgrad_implicit)\n",
      "4.04e+00 = max(Fgrad_reconnectxt - Fgrad_full)\n",
      "2.38e-05 = max(Fgrad_reconnectxt - Fgrad_implicit)\n",
      "\n",
      "0.00e+00 = max(Pgrad_full - Pgrad_full)\n",
      "4.72e-01 = max(Pgrad_full - Pgrad_implicit)\n",
      "1.61e+00 = max(Pgrad_reconnect - Pgrad_full)\n",
      "1.93e+00 = max(Pgrad_reconnect - Pgrad_implicit)\n",
      "3.04e-01 = max(Pgrad_reconnectxt - Pgrad_full)\n",
      "4.70e-04 = max(Pgrad_reconnectxt - Pgrad_implicit)\n"
     ]
    }
   ],
   "source": [
    "print(f\"Number of carbon atoms in {mol_name}: {N_Cs}\")\n",
    "print(f\"Nb of atoms: {len(atomic_numbers)}\")\n",
    "print(f\"batch_size: {batch_size}\")\n",
    "print(f\"Using precomputed {scf_charge_mode} charges\")\n",
    "\n",
    "print()\n",
    "for scf_mode in [\"full\", \"implicit\", \"reconnect\", \"reconnectxt\"]:\n",
    "    print(f\"{results[f'e_{scf_mode}'][0]} = e_{scf_mode}\")\n",
    "\n",
    "print()\n",
    "for scf_mode in [\"full\", \"implicit\", \"reconnect\", \"reconnectxt\"]:\n",
    "    print(f\"{(results[f'e_{scf_mode}'][0] - results['e_implicit'][0]):.2e} = e_{scf_mode} - e_implicit\")\n",
    "\n",
    "print()\n",
    "for scf_mode in [\"full\", \"reconnect\", \"reconnectxt\"]:\n",
    "    print(f\"{(results[f'forces_{scf_mode}'][0] - results['forces_full'][0]).max():.2e} = max(forces_{scf_mode} - forces_full)\")\n",
    "    print(f\"{(results[f'forces_{scf_mode}'][0] - results['forces_implicit'][0]).max():.2e} = max(forces_{scf_mode} - forces_implicit)\")\n",
    "\n",
    "print()\n",
    "for scf_mode in [\"full\", \"reconnect\", \"reconnectxt\"]:\n",
    "    print(f\"{(results[f'Fgrad_{scf_mode}'][0] - results['Fgrad_full'][0]).max():.2e} = max(Fgrad_{scf_mode} - Fgrad_full)\")\n",
    "    print(f\"{(results[f'Fgrad_{scf_mode}'][0] - results['Fgrad_implicit'][0]).max():.2e} = max(Fgrad_{scf_mode} - Fgrad_implicit)\")\n",
    "\n",
    "print()\n",
    "for scf_mode in [\"full\", \"reconnect\", \"reconnectxt\"]:\n",
    "    print(f\"{(results[f'Pgrad_{scf_mode}'][0] - results['Pgrad_full'][0]).max():.2e} = max(Pgrad_{scf_mode} - Pgrad_full)\")\n",
    "    print(f\"{(results[f'Pgrad_{scf_mode}'][0] - results['Pgrad_implicit'][0]).max():.2e} = max(Pgrad_{scf_mode} - Pgrad_implicit)\")\n"
   ]
  },
  {
   "cell_type": "code",
   "execution_count": null,
   "id": "2bd3bf70",
   "metadata": {},
   "outputs": [],
   "source": []
  }
 ],
 "metadata": {
  "kernelspec": {
   "display_name": "dxtb",
   "language": "python",
   "name": "python3"
  },
  "language_info": {
   "codemirror_mode": {
    "name": "ipython",
    "version": 3
   },
   "file_extension": ".py",
   "mimetype": "text/x-python",
   "name": "python",
   "nbconvert_exporter": "python",
   "pygments_lexer": "ipython3",
   "version": "3.11.11"
  }
 },
 "nbformat": 4,
 "nbformat_minor": 5
}
