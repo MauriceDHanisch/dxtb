{
 "cells": [
  {
   "cell_type": "code",
   "execution_count": 7,
   "id": "8cdaf6c4",
   "metadata": {},
   "outputs": [
    {
     "name": "stdout",
     "output_type": "stream",
     "text": [
      "max diff energy: 1.33514404296875e-05\n",
      "max diff forces: 1.996755599975586e-05\n",
      "max diff density: 3.7550926208496094e-05\n",
      "max diff density grad: 0.388153076171875\n"
     ]
    }
   ],
   "source": [
    "import torch\n",
    "import dxtb\n",
    "from dxtb.config import ConfigCache\n",
    "\n",
    "dd = {\"dtype\": torch.float32, \"device\": torch.device(\"cuda:0\")}\n",
    "\n",
    "# Load the problematic batch\n",
    "problematic_batch = torch.load(\"../problematic_batch_for_full.pt\", weights_only=False)\n",
    "numbers = problematic_batch[\"numbers\"].to(dd[\"device\"])\n",
    "positions = problematic_batch[\"positions\"].to(**dd)\n",
    "\n",
    "batch_size = numbers.shape[0]\n",
    "charges = torch.full((batch_size,), 0, **dd)\n",
    "\n",
    "\n",
    "# Impplicit\n",
    "opts = {\"scf_mode\": \"implicit\", \"batch_mode\": 2, \"int_driver\": \"libcint\"}\n",
    "calc = dxtb.Calculator(numbers, dxtb.GFN1_XTB, **dd, opts=opts)\n",
    "calc.opts.cache = ConfigCache(enabled=False, density=True, fock=True, overlap=False)\n",
    "\n",
    "e_impl = calc.get_energy(positions, chrg=charges)\n",
    "forces_impl = torch.autograd.grad(sum(e_impl), positions, retain_graph=True)[0]\n",
    "f_impl = calc.get_density(positions=positions, chrg=charges)\n",
    "f_grad_impl = torch.autograd.grad(f_impl.sum(), positions, retain_graph=True)[0]\n",
    "\n",
    "# Full\n",
    "opts = {\"scf_mode\": \"full\", \"batch_mode\": 2, \"int_driver\": \"libcint\"}\n",
    "calc = dxtb.Calculator(numbers, dxtb.GFN1_XTB, **dd, opts=opts)\n",
    "calc.opts.cache = ConfigCache(enabled=False, density=True, fock=True, overlap=False)\n",
    "e_full = calc.get_energy(positions, chrg=charges)\n",
    "forces_full = torch.autograd.grad(sum(e_full), positions, retain_graph=True)[0]\n",
    "f_full = calc.get_density(positions=positions, chrg=charges)\n",
    "f_grad_full = torch.autograd.grad(f_full.sum(), positions, retain_graph=True)[0]\n",
    "\n",
    "\n",
    "# Comparison\n",
    "print(f\"max diff energy: {torch.max(torch.abs(e_impl - e_full))}\")\n",
    "print(f\"max diff forces: {torch.max(torch.abs(forces_impl - forces_full))}\")\n",
    "print(f\"max diff density: {torch.max(torch.abs(f_impl - f_full))}\")\n",
    "print(f\"max diff density grad: {torch.max(torch.abs(f_grad_impl - f_grad_full))}\")"
   ]
  },
  {
   "cell_type": "code",
   "execution_count": null,
   "id": "a9deefbd",
   "metadata": {},
   "outputs": [],
   "source": []
  }
 ],
 "metadata": {
  "kernelspec": {
   "display_name": "orbnet-ete",
   "language": "python",
   "name": "python3"
  },
  "language_info": {
   "codemirror_mode": {
    "name": "ipython",
    "version": 3
   },
   "file_extension": ".py",
   "mimetype": "text/x-python",
   "name": "python",
   "nbconvert_exporter": "python",
   "pygments_lexer": "ipython3",
   "version": "3.11.11"
  }
 },
 "nbformat": 4,
 "nbformat_minor": 5
}
